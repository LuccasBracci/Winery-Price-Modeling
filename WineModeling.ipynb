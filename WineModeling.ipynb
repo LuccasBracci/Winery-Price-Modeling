{
  "cells": [
    {
      "cell_type": "markdown",
      "metadata": {
        "id": "view-in-github",
        "colab_type": "text"
      },
      "source": [
        "<a href=\"https://colab.research.google.com/github/LuccasBracci/Winery-Price-Modeling/blob/main/WineModeling.ipynb\" target=\"_parent\"><img src=\"https://colab.research.google.com/assets/colab-badge.svg\" alt=\"Open In Colab\"/></a>"
      ]
    },
    {
      "cell_type": "code",
      "execution_count": 60,
      "metadata": {
        "id": "bOqeOJE8th9s",
        "scrolled": true,
        "colab": {
          "base_uri": "https://localhost:8080/"
        },
        "outputId": "056e595e-3930-493f-924b-7a3f4a04e351"
      },
      "outputs": [
        {
          "output_type": "stream",
          "name": "stdout",
          "text": [
            "processor\t: 0\n",
            "vendor_id\t: GenuineIntel\n",
            "cpu family\t: 6\n",
            "model\t\t: 79\n",
            "model name\t: Intel(R) Xeon(R) CPU @ 2.20GHz\n",
            "stepping\t: 0\n",
            "microcode\t: 0xffffffff\n",
            "cpu MHz\t\t: 2200.230\n",
            "cache size\t: 56320 KB\n",
            "physical id\t: 0\n",
            "siblings\t: 2\n",
            "core id\t\t: 0\n",
            "cpu cores\t: 1\n",
            "apicid\t\t: 0\n",
            "initial apicid\t: 0\n",
            "fpu\t\t: yes\n",
            "fpu_exception\t: yes\n",
            "cpuid level\t: 13\n",
            "wp\t\t: yes\n",
            "flags\t\t: fpu vme de pse tsc msr pae mce cx8 apic sep mtrr pge mca cmov pat pse36 clflush mmx fxsr sse sse2 ss ht syscall nx pdpe1gb rdtscp lm constant_tsc rep_good nopl xtopology nonstop_tsc cpuid tsc_known_freq pni pclmulqdq ssse3 fma cx16 pcid sse4_1 sse4_2 x2apic movbe popcnt aes xsave avx f16c rdrand hypervisor lahf_lm abm 3dnowprefetch invpcid_single ssbd ibrs ibpb stibp fsgsbase tsc_adjust bmi1 hle avx2 smep bmi2 erms invpcid rtm rdseed adx smap xsaveopt arat md_clear arch_capabilities\n",
            "bugs\t\t: cpu_meltdown spectre_v1 spectre_v2 spec_store_bypass l1tf mds swapgs taa mmio_stale_data retbleed\n",
            "bogomips\t: 4400.46\n",
            "clflush size\t: 64\n",
            "cache_alignment\t: 64\n",
            "address sizes\t: 46 bits physical, 48 bits virtual\n",
            "power management:\n",
            "\n",
            "processor\t: 1\n",
            "vendor_id\t: GenuineIntel\n",
            "cpu family\t: 6\n",
            "model\t\t: 79\n",
            "model name\t: Intel(R) Xeon(R) CPU @ 2.20GHz\n",
            "stepping\t: 0\n",
            "microcode\t: 0xffffffff\n",
            "cpu MHz\t\t: 2200.230\n",
            "cache size\t: 56320 KB\n",
            "physical id\t: 0\n",
            "siblings\t: 2\n",
            "core id\t\t: 0\n",
            "cpu cores\t: 1\n",
            "apicid\t\t: 1\n",
            "initial apicid\t: 1\n",
            "fpu\t\t: yes\n",
            "fpu_exception\t: yes\n",
            "cpuid level\t: 13\n",
            "wp\t\t: yes\n",
            "flags\t\t: fpu vme de pse tsc msr pae mce cx8 apic sep mtrr pge mca cmov pat pse36 clflush mmx fxsr sse sse2 ss ht syscall nx pdpe1gb rdtscp lm constant_tsc rep_good nopl xtopology nonstop_tsc cpuid tsc_known_freq pni pclmulqdq ssse3 fma cx16 pcid sse4_1 sse4_2 x2apic movbe popcnt aes xsave avx f16c rdrand hypervisor lahf_lm abm 3dnowprefetch invpcid_single ssbd ibrs ibpb stibp fsgsbase tsc_adjust bmi1 hle avx2 smep bmi2 erms invpcid rtm rdseed adx smap xsaveopt arat md_clear arch_capabilities\n",
            "bugs\t\t: cpu_meltdown spectre_v1 spectre_v2 spec_store_bypass l1tf mds swapgs taa mmio_stale_data retbleed\n",
            "bogomips\t: 4400.46\n",
            "clflush size\t: 64\n",
            "cache_alignment\t: 64\n",
            "address sizes\t: 46 bits physical, 48 bits virtual\n",
            "power management:\n",
            "\n"
          ]
        }
      ],
      "source": [
        "try:\n",
        "    import vonage\n",
        "except ImportError:\n",
        "    !pip install vonage\n",
        "    import vonage\n",
        "\n",
        "import sys\n",
        "import asyncio\n",
        "import numpy as np\n",
        "import pandas as pd\n",
        "import seaborn as sns\n",
        "import matplotlib.pyplot as plt\n",
        "import seaborn as sns\n",
        "import re\n",
        "import plotly.express as px\n",
        "import joblib\n",
        "import os\n",
        "\n",
        "from google.colab import drive\n",
        "\n",
        "from sklearn.pipeline import make_pipeline, Pipeline\n",
        "\n",
        "from sklearn.preprocessing import StandardScaler\n",
        "\n",
        "import xgboost as xgb\n",
        "from sklearn.model_selection import train_test_split, GridSearchCV\n",
        "from sklearn.metrics import accuracy_score, precision_score, recall_score, classification_report, ConfusionMatrixDisplay\n",
        "from sklearn.metrics import mean_squared_error, r2_score, explained_variance_score\n",
        "from sklearn.linear_model import LinearRegression\n",
        "from sklearn.ensemble import GradientBoostingRegressor, RandomForestRegressor, BaggingRegressor\n",
        "from sklearn.decomposition import PCA\n",
        "from sklearn.compose import TransformedTargetRegressor, ColumnTransformer\n",
        "\n",
        "from sklearn.preprocessing import StandardScaler, OneHotEncoder, OrdinalEncoder, LabelEncoder\n",
        "from sklearn.compose import make_column_selector, make_column_transformer\n",
        "from sklearn.pipeline import make_pipeline\n",
        "from sklearn.impute import SimpleImputer\n",
        "from sklearn.linear_model import Ridge, Lasso, LogisticRegression\n",
        "\n",
        "# from tensorflow import keras\n",
        "# from tensorflow.keras.models import Sequential\n",
        "# from tensorflow.keras import layers, regularizers\n",
        "# from tensorflow.keras.layers import Dense, Dropout, Conv2D\n",
        "# from tensorflow.keras.wrappers.scikit_learn import KerasRegressor\n",
        "# import tensorflow as tf\n",
        "import warnings\n",
        "\n",
        "warnings.filterwarnings('ignore')\n",
        "# print(\"Num GPUs Available: \", len(tf.config.list_physical_devices('GPU')))\n",
        "\n",
        "!cat /proc/cpuinfo"
      ]
    },
    {
      "cell_type": "code",
      "execution_count": 61,
      "metadata": {
        "id": "zhls0rXXk7TK"
      },
      "outputs": [],
      "source": [
        "plt.style.use('dark_background')"
      ]
    },
    {
      "cell_type": "code",
      "source": [
        "drive.mount('/content/drive')"
      ],
      "metadata": {
        "colab": {
          "base_uri": "https://localhost:8080/"
        },
        "id": "Z9dlu4YqliGO",
        "outputId": "83070460-d4c9-4d19-9c7a-7fb6ec987bc6"
      },
      "execution_count": 62,
      "outputs": [
        {
          "output_type": "stream",
          "name": "stdout",
          "text": [
            "Drive already mounted at /content/drive; to attempt to forcibly remount, call drive.mount(\"/content/drive\", force_remount=True).\n"
          ]
        }
      ]
    },
    {
      "cell_type": "code",
      "execution_count": 63,
      "metadata": {
        "id": "Q3tjNzM6B-Sr"
      },
      "outputs": [],
      "source": [
        "file = '/content/drive/MyDrive/Coding Dojo | Data Science/Stack 2: Machine Learning/Week 3: Classification Models/Data/wines_SPA.csv'"
      ]
    },
    {
      "cell_type": "markdown",
      "metadata": {
        "id": "sILeZ1KCOnhP"
      },
      "source": [
        "###### Custom Functions"
      ]
    },
    {
      "cell_type": "code",
      "execution_count": 64,
      "metadata": {
        "id": "vTc8YufBKUPW"
      },
      "outputs": [],
      "source": [
        "'''\n",
        "Running this function will loop through all rows in the specified column\n",
        "and remove ascii characters (excluding decimal points) from values.\n",
        "\n",
        "The key arguments are:\n",
        "df: dataframe\n",
        "col: dataframe column\n",
        "rep: character that replaces ascii (usually a decimal point)\n",
        "\n",
        "'''\n",
        "\n",
        "def clean_cols(df, col, rep):\n",
        "    \n",
        "    # Loop through columns within the dataframe for the length of rows in the specified column\n",
        "    for i in range(len(df[col])):\n",
        "\n",
        "        # Search for and resub values within the cell respective to the index\n",
        "        num = re.sub(r'[^0-9\\.]+',rep, df[col][i])  \n",
        "        \n",
        "        # Assigns new value to the cell of the respective index \n",
        "        df[col][i] = float(num)\n",
        "        \n",
        "    return df"
      ]
    },
    {
      "cell_type": "code",
      "execution_count": 65,
      "metadata": {
        "id": "-ImQwamdKth5"
      },
      "outputs": [],
      "source": [
        "'''\n",
        "Running this function will loop through all rows in the specified column and returns\n",
        "the values that contains an ascii character (excluding decimal points)\n",
        "\n",
        "'''\n",
        "\n",
        "def search_cols(df, col):\n",
        "    \n",
        "    # Loop through columns within the dataframe for the length of rows in the specified column\n",
        "    for i in range(len(df[col])):\n",
        "\n",
        "        # Search for values within the cell respective to the index\n",
        "        num = re.search(r'[^0-9\\.]+', df[col][i])  \n",
        "        \n",
        "    return df"
      ]
    },
    {
      "cell_type": "code",
      "execution_count": 66,
      "metadata": {
        "id": "tn9Bh9sAhreX"
      },
      "outputs": [],
      "source": [
        "'''\n",
        "This function loops through the dataframe columns and prints the \n",
        "data type, column name, and unique elements within the column.\n",
        "\n",
        "There are three kwargs; \n",
        "\n",
        "col allows the user to specify the column of interest,\n",
        "\n",
        "show_count will toggle the value_counts function, \n",
        "\n",
        "sort_values sorts the data in ascending order.\n",
        "\n",
        "'''\n",
        "\n",
        "def LU(df, col=None, show_count=False, sort_values=False):\n",
        "\n",
        "    if col is not None:\n",
        "        unique_vals = df[col].unique()\n",
        "        if sort_values:\n",
        "            unique_vals = sorted(unique_vals) \n",
        "\n",
        "        print(col,\n",
        "              '\\n',\n",
        "              df[col].dtype,\n",
        "              '\\n\\n',\n",
        "              unique_vals,\n",
        "              '\\n',\n",
        "              df[col].value_counts() if show_count else \"\",\n",
        "              '\\n'\n",
        "              )\n",
        "    else:\n",
        "        for i in df.columns:\n",
        "            unique_vals = df[i].unique()\n",
        "            if sort_values:\n",
        "                unique_vals = sorted(unique_vals)\n",
        "\n",
        "            print(i,\n",
        "                  '\\n',\n",
        "                  df[i].dtype,\n",
        "                  '\\n\\n',\n",
        "                  unique_vals,\n",
        "                  '\\n',\n",
        "                  df[i].value_counts() if show_count else \"\",\n",
        "                  '\\n'\n",
        "                  )"
      ]
    },
    {
      "cell_type": "code",
      "execution_count": 67,
      "metadata": {
        "id": "qJibxcmRk7TN"
      },
      "outputs": [],
      "source": [
        "'''\n",
        "L(ist)M(issing) function loops through columns and calculates the degree\n",
        "of missing data and prints value as a percentage\n",
        "\n",
        "'''\n",
        "\n",
        "def LM(df, sort_by_missing=True, perc_min=0):\n",
        "    missing_perc = df.isna().mean() * 100\n",
        "    missing_perc = missing_perc[missing_perc > perc_min]\n",
        "    missing_perc = missing_perc.sort_values(ascending=False) if sort_by_missing else missing_perc.index\n",
        "    \n",
        "    missing_cols = []\n",
        "    for col in missing_perc.index:\n",
        "        unique_vals = df[col].unique()\n",
        "        print(f\"{col} ({df[col].dtype}): {missing_perc[col]:.2f}% missing values\")\n",
        "        print(f\"Unique values: {unique_vals}\\n\")\n",
        "        missing_cols.append(col)\n",
        "        \n",
        "    return missing_cols"
      ]
    },
    {
      "cell_type": "markdown",
      "metadata": {
        "id": "snDn765YO3JE"
      },
      "source": [
        "# Explore Dataset"
      ]
    },
    {
      "cell_type": "code",
      "execution_count": 68,
      "metadata": {
        "id": "nBA2HL89-tQe"
      },
      "outputs": [],
      "source": [
        "df = pd.read_csv(file)"
      ]
    },
    {
      "cell_type": "code",
      "execution_count": 69,
      "metadata": {
        "id": "qjeSqLXOT6hl",
        "colab": {
          "base_uri": "https://localhost:8080/",
          "height": 206
        },
        "outputId": "3c5ae25b-8d7f-4c21-9e94-4c0bdbfdcf50"
      },
      "outputs": [
        {
          "output_type": "execute_result",
          "data": {
            "text/plain": [
              "          winery           wine  year  rating  num_reviews country  \\\n",
              "0  Teso La Monja          Tinto  2013     4.9           58  Espana   \n",
              "1         Artadi  Vina El Pison  2018     4.9           31  Espana   \n",
              "2   Vega Sicilia          Unico  2009     4.8         1793  Espana   \n",
              "3   Vega Sicilia          Unico  1999     4.8         1705  Espana   \n",
              "4   Vega Sicilia          Unico  1996     4.8         1309  Espana   \n",
              "\n",
              "             region   price                  type  body  acidity  \n",
              "0              Toro  995.00              Toro Red   5.0      3.0  \n",
              "1    Vino de Espana  313.50           Tempranillo   4.0      2.0  \n",
              "2  Ribera del Duero  324.95  Ribera Del Duero Red   5.0      3.0  \n",
              "3  Ribera del Duero  692.96  Ribera Del Duero Red   5.0      3.0  \n",
              "4  Ribera del Duero  778.06  Ribera Del Duero Red   5.0      3.0  "
            ],
            "text/html": [
              "\n",
              "  <div id=\"df-1cb3633d-e0d4-4502-9433-177602bd1232\">\n",
              "    <div class=\"colab-df-container\">\n",
              "      <div>\n",
              "<style scoped>\n",
              "    .dataframe tbody tr th:only-of-type {\n",
              "        vertical-align: middle;\n",
              "    }\n",
              "\n",
              "    .dataframe tbody tr th {\n",
              "        vertical-align: top;\n",
              "    }\n",
              "\n",
              "    .dataframe thead th {\n",
              "        text-align: right;\n",
              "    }\n",
              "</style>\n",
              "<table border=\"1\" class=\"dataframe\">\n",
              "  <thead>\n",
              "    <tr style=\"text-align: right;\">\n",
              "      <th></th>\n",
              "      <th>winery</th>\n",
              "      <th>wine</th>\n",
              "      <th>year</th>\n",
              "      <th>rating</th>\n",
              "      <th>num_reviews</th>\n",
              "      <th>country</th>\n",
              "      <th>region</th>\n",
              "      <th>price</th>\n",
              "      <th>type</th>\n",
              "      <th>body</th>\n",
              "      <th>acidity</th>\n",
              "    </tr>\n",
              "  </thead>\n",
              "  <tbody>\n",
              "    <tr>\n",
              "      <th>0</th>\n",
              "      <td>Teso La Monja</td>\n",
              "      <td>Tinto</td>\n",
              "      <td>2013</td>\n",
              "      <td>4.9</td>\n",
              "      <td>58</td>\n",
              "      <td>Espana</td>\n",
              "      <td>Toro</td>\n",
              "      <td>995.00</td>\n",
              "      <td>Toro Red</td>\n",
              "      <td>5.0</td>\n",
              "      <td>3.0</td>\n",
              "    </tr>\n",
              "    <tr>\n",
              "      <th>1</th>\n",
              "      <td>Artadi</td>\n",
              "      <td>Vina El Pison</td>\n",
              "      <td>2018</td>\n",
              "      <td>4.9</td>\n",
              "      <td>31</td>\n",
              "      <td>Espana</td>\n",
              "      <td>Vino de Espana</td>\n",
              "      <td>313.50</td>\n",
              "      <td>Tempranillo</td>\n",
              "      <td>4.0</td>\n",
              "      <td>2.0</td>\n",
              "    </tr>\n",
              "    <tr>\n",
              "      <th>2</th>\n",
              "      <td>Vega Sicilia</td>\n",
              "      <td>Unico</td>\n",
              "      <td>2009</td>\n",
              "      <td>4.8</td>\n",
              "      <td>1793</td>\n",
              "      <td>Espana</td>\n",
              "      <td>Ribera del Duero</td>\n",
              "      <td>324.95</td>\n",
              "      <td>Ribera Del Duero Red</td>\n",
              "      <td>5.0</td>\n",
              "      <td>3.0</td>\n",
              "    </tr>\n",
              "    <tr>\n",
              "      <th>3</th>\n",
              "      <td>Vega Sicilia</td>\n",
              "      <td>Unico</td>\n",
              "      <td>1999</td>\n",
              "      <td>4.8</td>\n",
              "      <td>1705</td>\n",
              "      <td>Espana</td>\n",
              "      <td>Ribera del Duero</td>\n",
              "      <td>692.96</td>\n",
              "      <td>Ribera Del Duero Red</td>\n",
              "      <td>5.0</td>\n",
              "      <td>3.0</td>\n",
              "    </tr>\n",
              "    <tr>\n",
              "      <th>4</th>\n",
              "      <td>Vega Sicilia</td>\n",
              "      <td>Unico</td>\n",
              "      <td>1996</td>\n",
              "      <td>4.8</td>\n",
              "      <td>1309</td>\n",
              "      <td>Espana</td>\n",
              "      <td>Ribera del Duero</td>\n",
              "      <td>778.06</td>\n",
              "      <td>Ribera Del Duero Red</td>\n",
              "      <td>5.0</td>\n",
              "      <td>3.0</td>\n",
              "    </tr>\n",
              "  </tbody>\n",
              "</table>\n",
              "</div>\n",
              "      <button class=\"colab-df-convert\" onclick=\"convertToInteractive('df-1cb3633d-e0d4-4502-9433-177602bd1232')\"\n",
              "              title=\"Convert this dataframe to an interactive table.\"\n",
              "              style=\"display:none;\">\n",
              "        \n",
              "  <svg xmlns=\"http://www.w3.org/2000/svg\" height=\"24px\"viewBox=\"0 0 24 24\"\n",
              "       width=\"24px\">\n",
              "    <path d=\"M0 0h24v24H0V0z\" fill=\"none\"/>\n",
              "    <path d=\"M18.56 5.44l.94 2.06.94-2.06 2.06-.94-2.06-.94-.94-2.06-.94 2.06-2.06.94zm-11 1L8.5 8.5l.94-2.06 2.06-.94-2.06-.94L8.5 2.5l-.94 2.06-2.06.94zm10 10l.94 2.06.94-2.06 2.06-.94-2.06-.94-.94-2.06-.94 2.06-2.06.94z\"/><path d=\"M17.41 7.96l-1.37-1.37c-.4-.4-.92-.59-1.43-.59-.52 0-1.04.2-1.43.59L10.3 9.45l-7.72 7.72c-.78.78-.78 2.05 0 2.83L4 21.41c.39.39.9.59 1.41.59.51 0 1.02-.2 1.41-.59l7.78-7.78 2.81-2.81c.8-.78.8-2.07 0-2.86zM5.41 20L4 18.59l7.72-7.72 1.47 1.35L5.41 20z\"/>\n",
              "  </svg>\n",
              "      </button>\n",
              "      \n",
              "  <style>\n",
              "    .colab-df-container {\n",
              "      display:flex;\n",
              "      flex-wrap:wrap;\n",
              "      gap: 12px;\n",
              "    }\n",
              "\n",
              "    .colab-df-convert {\n",
              "      background-color: #E8F0FE;\n",
              "      border: none;\n",
              "      border-radius: 50%;\n",
              "      cursor: pointer;\n",
              "      display: none;\n",
              "      fill: #1967D2;\n",
              "      height: 32px;\n",
              "      padding: 0 0 0 0;\n",
              "      width: 32px;\n",
              "    }\n",
              "\n",
              "    .colab-df-convert:hover {\n",
              "      background-color: #E2EBFA;\n",
              "      box-shadow: 0px 1px 2px rgba(60, 64, 67, 0.3), 0px 1px 3px 1px rgba(60, 64, 67, 0.15);\n",
              "      fill: #174EA6;\n",
              "    }\n",
              "\n",
              "    [theme=dark] .colab-df-convert {\n",
              "      background-color: #3B4455;\n",
              "      fill: #D2E3FC;\n",
              "    }\n",
              "\n",
              "    [theme=dark] .colab-df-convert:hover {\n",
              "      background-color: #434B5C;\n",
              "      box-shadow: 0px 1px 3px 1px rgba(0, 0, 0, 0.15);\n",
              "      filter: drop-shadow(0px 1px 2px rgba(0, 0, 0, 0.3));\n",
              "      fill: #FFFFFF;\n",
              "    }\n",
              "  </style>\n",
              "\n",
              "      <script>\n",
              "        const buttonEl =\n",
              "          document.querySelector('#df-1cb3633d-e0d4-4502-9433-177602bd1232 button.colab-df-convert');\n",
              "        buttonEl.style.display =\n",
              "          google.colab.kernel.accessAllowed ? 'block' : 'none';\n",
              "\n",
              "        async function convertToInteractive(key) {\n",
              "          const element = document.querySelector('#df-1cb3633d-e0d4-4502-9433-177602bd1232');\n",
              "          const dataTable =\n",
              "            await google.colab.kernel.invokeFunction('convertToInteractive',\n",
              "                                                     [key], {});\n",
              "          if (!dataTable) return;\n",
              "\n",
              "          const docLinkHtml = 'Like what you see? Visit the ' +\n",
              "            '<a target=\"_blank\" href=https://colab.research.google.com/notebooks/data_table.ipynb>data table notebook</a>'\n",
              "            + ' to learn more about interactive tables.';\n",
              "          element.innerHTML = '';\n",
              "          dataTable['output_type'] = 'display_data';\n",
              "          await google.colab.output.renderOutput(dataTable, element);\n",
              "          const docLink = document.createElement('div');\n",
              "          docLink.innerHTML = docLinkHtml;\n",
              "          element.appendChild(docLink);\n",
              "        }\n",
              "      </script>\n",
              "    </div>\n",
              "  </div>\n",
              "  "
            ]
          },
          "metadata": {},
          "execution_count": 69
        }
      ],
      "source": [
        "df.head()"
      ]
    },
    {
      "cell_type": "code",
      "execution_count": 70,
      "metadata": {
        "id": "aNJgU4jWk7TO",
        "colab": {
          "base_uri": "https://localhost:8080/"
        },
        "outputId": "46a391d8-8c55-49ff-816d-19104153a2c6"
      },
      "outputs": [
        {
          "output_type": "stream",
          "name": "stdout",
          "text": [
            "<class 'pandas.core.frame.DataFrame'>\n",
            "RangeIndex: 7500 entries, 0 to 7499\n",
            "Data columns (total 11 columns):\n",
            " #   Column       Non-Null Count  Dtype  \n",
            "---  ------       --------------  -----  \n",
            " 0   winery       7500 non-null   object \n",
            " 1   wine         7500 non-null   object \n",
            " 2   year         7498 non-null   object \n",
            " 3   rating       7500 non-null   float64\n",
            " 4   num_reviews  7500 non-null   int64  \n",
            " 5   country      7500 non-null   object \n",
            " 6   region       7500 non-null   object \n",
            " 7   price        7500 non-null   float64\n",
            " 8   type         6955 non-null   object \n",
            " 9   body         6331 non-null   float64\n",
            " 10  acidity      6331 non-null   float64\n",
            "dtypes: float64(4), int64(1), object(6)\n",
            "memory usage: 644.7+ KB\n"
          ]
        }
      ],
      "source": [
        "df.info()"
      ]
    },
    {
      "cell_type": "code",
      "execution_count": 71,
      "metadata": {
        "id": "dXeyzA4Ok7TP",
        "colab": {
          "base_uri": "https://localhost:8080/"
        },
        "outputId": "1c0fda08-e531-4ba9-8070-2688d2201d65"
      },
      "outputs": [
        {
          "output_type": "stream",
          "name": "stdout",
          "text": [
            "There are 7500 rows and 11 columns\n"
          ]
        }
      ],
      "source": [
        "row_df, col_df = df.shape\n",
        "\n",
        "print(f'There are {row_df} rows and {col_df} columns')"
      ]
    },
    {
      "cell_type": "markdown",
      "metadata": {
        "id": "b43kcxOFajQz"
      },
      "source": [
        "# Cleaning Wine Sales"
      ]
    },
    {
      "cell_type": "code",
      "execution_count": 72,
      "metadata": {
        "id": "6u5QXbhjF_VW",
        "colab": {
          "base_uri": "https://localhost:8080/"
        },
        "outputId": "8e034727-f293-4d4a-d67a-b9296e86b7e7"
      },
      "outputs": [
        {
          "output_type": "stream",
          "name": "stdout",
          "text": [
            "body (float64): 15.59% missing values\n",
            "Unique values: [ 5.  4.  3. nan  2.]\n",
            "\n",
            "acidity (float64): 15.59% missing values\n",
            "Unique values: [ 3.  2.  1. nan]\n",
            "\n",
            "type (object): 7.27% missing values\n",
            "Unique values: ['Toro Red' 'Tempranillo' 'Ribera Del Duero Red' 'Pedro Ximenez' 'Red'\n",
            " 'Sherry' 'Priorat Red' 'Rioja Red' 'Rioja White' 'Grenache' nan 'Cava'\n",
            " 'Verdejo' 'Syrah' 'Monastrell' 'Mencia' 'Sparkling' 'Montsant Red'\n",
            " 'Albarino' 'Chardonnay' 'Cabernet Sauvignon' 'Sauvignon Blanc']\n",
            "\n",
            "year (object): 0.03% missing values\n",
            "Unique values: ['2013' '2018' '2009' '1999' '1996' '1998' '2010' '1995' '2015' '2011'\n",
            " '2016' '1970' '1946' '1962' '2019' '2004' 'N.V.' '1931' '1979' '2005'\n",
            " '2020' '2014' '1985' '1929' '2007' '2012' '2017' '2008' nan '2006' '2000'\n",
            " '2003' '2002' '1991' '1994' '1990' '1989' '1987' '1986' '1981' '2001'\n",
            " '1968' '1964' '1982' '1974' '1983' '1955' '1980' '1972' '1953' '1958'\n",
            " '1942' '1965' '1992' '1973' '1997' '1967' '1975' '1910' '1961' '1954'\n",
            " '1988' '1969' '1951' '1928' '1976' '1949' '2021' '1959' '1922' '1978'\n",
            " '1925']\n",
            "\n"
          ]
        },
        {
          "output_type": "execute_result",
          "data": {
            "text/plain": [
              "['body', 'acidity', 'type', 'year']"
            ]
          },
          "metadata": {},
          "execution_count": 72
        }
      ],
      "source": [
        "LM(df)"
      ]
    },
    {
      "cell_type": "code",
      "source": [
        "df.head(20)"
      ],
      "metadata": {
        "id": "lJHMTuZXN7tT",
        "colab": {
          "base_uri": "https://localhost:8080/",
          "height": 676
        },
        "outputId": "18986a05-ca74-49df-a769-7dcf3cb90bcc"
      },
      "execution_count": 73,
      "outputs": [
        {
          "output_type": "execute_result",
          "data": {
            "text/plain": [
              "                 winery                            wine  year  rating  \\\n",
              "0         Teso La Monja                           Tinto  2013     4.9   \n",
              "1                Artadi                   Vina El Pison  2018     4.9   \n",
              "2          Vega Sicilia                           Unico  2009     4.8   \n",
              "3          Vega Sicilia                           Unico  1999     4.8   \n",
              "4          Vega Sicilia                           Unico  1996     4.8   \n",
              "5          Vega Sicilia                           Unico  1998     4.8   \n",
              "6          Vega Sicilia                           Unico  2010     4.8   \n",
              "7          Vega Sicilia                           Unico  1995     4.8   \n",
              "8          Vega Sicilia  Unico Reserva Especial Edicion  2015     4.8   \n",
              "9          Vega Sicilia                           Unico  2011     4.8   \n",
              "10         Vega Sicilia  Unico Reserva Especial Edicion  2016     4.8   \n",
              "11  Pago de Carraovejas                       El Anejon  2016     4.8   \n",
              "12         Vega Sicilia  Unico Reserva Especial Edicion  2018     4.8   \n",
              "13         Vega Sicilia                           Unico  1970     4.8   \n",
              "14          Toro Albala       Don PX Convento Seleccion  1946     4.8   \n",
              "15  Pago de Carraovejas           Cuesta de Las Liebres  2015     4.8   \n",
              "16         Vega Sicilia                           Unico  1962     4.8   \n",
              "17         Vega Sicilia  Unico Reserva Especial Edicion  2019     4.8   \n",
              "18      Bodegas El Nido                         El Nido  2018     4.8   \n",
              "19         Vega Sicilia  Unico Reserva Especial Edicion  2004     4.8   \n",
              "\n",
              "    num_reviews country            region       price                  type  \\\n",
              "0            58  Espana              Toro   995.00000              Toro Red   \n",
              "1            31  Espana    Vino de Espana   313.50000           Tempranillo   \n",
              "2          1793  Espana  Ribera del Duero   324.95000  Ribera Del Duero Red   \n",
              "3          1705  Espana  Ribera del Duero   692.96000  Ribera Del Duero Red   \n",
              "4          1309  Espana  Ribera del Duero   778.06000  Ribera Del Duero Red   \n",
              "5          1209  Espana  Ribera del Duero   490.00000  Ribera Del Duero Red   \n",
              "6          1201  Espana  Ribera del Duero   349.00000  Ribera Del Duero Red   \n",
              "7           926  Espana  Ribera del Duero   810.89000  Ribera Del Duero Red   \n",
              "8           643  Espana  Ribera del Duero   345.00000  Ribera Del Duero Red   \n",
              "9           630  Espana  Ribera del Duero   315.00000  Ribera Del Duero Red   \n",
              "10          591  Espana  Ribera del Duero   514.85000  Ribera Del Duero Red   \n",
              "11          454  Espana  Ribera del Duero   105.15000  Ribera Del Duero Red   \n",
              "12          438  Espana  Ribera del Duero   430.00000  Ribera Del Duero Red   \n",
              "13          417  Espana  Ribera del Duero   925.00000  Ribera Del Duero Red   \n",
              "14          398  Espana  Montilla-Moriles   350.00000         Pedro Ximenez   \n",
              "15          372  Espana  Ribera del Duero   166.18000  Ribera Del Duero Red   \n",
              "16          295  Espana  Ribera del Duero  1620.00000  Ribera Del Duero Red   \n",
              "17          250  Espana  Ribera del Duero   431.36000  Ribera Del Duero Red   \n",
              "18          217  Espana           Jumilla   195.62738                   Red   \n",
              "19          211  Espana  Ribera del Duero   824.43000  Ribera Del Duero Red   \n",
              "\n",
              "    body  acidity  \n",
              "0    5.0      3.0  \n",
              "1    4.0      2.0  \n",
              "2    5.0      3.0  \n",
              "3    5.0      3.0  \n",
              "4    5.0      3.0  \n",
              "5    5.0      3.0  \n",
              "6    5.0      3.0  \n",
              "7    5.0      3.0  \n",
              "8    5.0      3.0  \n",
              "9    5.0      3.0  \n",
              "10   5.0      3.0  \n",
              "11   5.0      3.0  \n",
              "12   5.0      3.0  \n",
              "13   5.0      3.0  \n",
              "14   5.0      1.0  \n",
              "15   5.0      3.0  \n",
              "16   5.0      3.0  \n",
              "17   5.0      3.0  \n",
              "18   4.0      3.0  \n",
              "19   5.0      3.0  "
            ],
            "text/html": [
              "\n",
              "  <div id=\"df-4d730143-4c31-4d31-b7a0-0b65bcd08836\">\n",
              "    <div class=\"colab-df-container\">\n",
              "      <div>\n",
              "<style scoped>\n",
              "    .dataframe tbody tr th:only-of-type {\n",
              "        vertical-align: middle;\n",
              "    }\n",
              "\n",
              "    .dataframe tbody tr th {\n",
              "        vertical-align: top;\n",
              "    }\n",
              "\n",
              "    .dataframe thead th {\n",
              "        text-align: right;\n",
              "    }\n",
              "</style>\n",
              "<table border=\"1\" class=\"dataframe\">\n",
              "  <thead>\n",
              "    <tr style=\"text-align: right;\">\n",
              "      <th></th>\n",
              "      <th>winery</th>\n",
              "      <th>wine</th>\n",
              "      <th>year</th>\n",
              "      <th>rating</th>\n",
              "      <th>num_reviews</th>\n",
              "      <th>country</th>\n",
              "      <th>region</th>\n",
              "      <th>price</th>\n",
              "      <th>type</th>\n",
              "      <th>body</th>\n",
              "      <th>acidity</th>\n",
              "    </tr>\n",
              "  </thead>\n",
              "  <tbody>\n",
              "    <tr>\n",
              "      <th>0</th>\n",
              "      <td>Teso La Monja</td>\n",
              "      <td>Tinto</td>\n",
              "      <td>2013</td>\n",
              "      <td>4.9</td>\n",
              "      <td>58</td>\n",
              "      <td>Espana</td>\n",
              "      <td>Toro</td>\n",
              "      <td>995.00000</td>\n",
              "      <td>Toro Red</td>\n",
              "      <td>5.0</td>\n",
              "      <td>3.0</td>\n",
              "    </tr>\n",
              "    <tr>\n",
              "      <th>1</th>\n",
              "      <td>Artadi</td>\n",
              "      <td>Vina El Pison</td>\n",
              "      <td>2018</td>\n",
              "      <td>4.9</td>\n",
              "      <td>31</td>\n",
              "      <td>Espana</td>\n",
              "      <td>Vino de Espana</td>\n",
              "      <td>313.50000</td>\n",
              "      <td>Tempranillo</td>\n",
              "      <td>4.0</td>\n",
              "      <td>2.0</td>\n",
              "    </tr>\n",
              "    <tr>\n",
              "      <th>2</th>\n",
              "      <td>Vega Sicilia</td>\n",
              "      <td>Unico</td>\n",
              "      <td>2009</td>\n",
              "      <td>4.8</td>\n",
              "      <td>1793</td>\n",
              "      <td>Espana</td>\n",
              "      <td>Ribera del Duero</td>\n",
              "      <td>324.95000</td>\n",
              "      <td>Ribera Del Duero Red</td>\n",
              "      <td>5.0</td>\n",
              "      <td>3.0</td>\n",
              "    </tr>\n",
              "    <tr>\n",
              "      <th>3</th>\n",
              "      <td>Vega Sicilia</td>\n",
              "      <td>Unico</td>\n",
              "      <td>1999</td>\n",
              "      <td>4.8</td>\n",
              "      <td>1705</td>\n",
              "      <td>Espana</td>\n",
              "      <td>Ribera del Duero</td>\n",
              "      <td>692.96000</td>\n",
              "      <td>Ribera Del Duero Red</td>\n",
              "      <td>5.0</td>\n",
              "      <td>3.0</td>\n",
              "    </tr>\n",
              "    <tr>\n",
              "      <th>4</th>\n",
              "      <td>Vega Sicilia</td>\n",
              "      <td>Unico</td>\n",
              "      <td>1996</td>\n",
              "      <td>4.8</td>\n",
              "      <td>1309</td>\n",
              "      <td>Espana</td>\n",
              "      <td>Ribera del Duero</td>\n",
              "      <td>778.06000</td>\n",
              "      <td>Ribera Del Duero Red</td>\n",
              "      <td>5.0</td>\n",
              "      <td>3.0</td>\n",
              "    </tr>\n",
              "    <tr>\n",
              "      <th>5</th>\n",
              "      <td>Vega Sicilia</td>\n",
              "      <td>Unico</td>\n",
              "      <td>1998</td>\n",
              "      <td>4.8</td>\n",
              "      <td>1209</td>\n",
              "      <td>Espana</td>\n",
              "      <td>Ribera del Duero</td>\n",
              "      <td>490.00000</td>\n",
              "      <td>Ribera Del Duero Red</td>\n",
              "      <td>5.0</td>\n",
              "      <td>3.0</td>\n",
              "    </tr>\n",
              "    <tr>\n",
              "      <th>6</th>\n",
              "      <td>Vega Sicilia</td>\n",
              "      <td>Unico</td>\n",
              "      <td>2010</td>\n",
              "      <td>4.8</td>\n",
              "      <td>1201</td>\n",
              "      <td>Espana</td>\n",
              "      <td>Ribera del Duero</td>\n",
              "      <td>349.00000</td>\n",
              "      <td>Ribera Del Duero Red</td>\n",
              "      <td>5.0</td>\n",
              "      <td>3.0</td>\n",
              "    </tr>\n",
              "    <tr>\n",
              "      <th>7</th>\n",
              "      <td>Vega Sicilia</td>\n",
              "      <td>Unico</td>\n",
              "      <td>1995</td>\n",
              "      <td>4.8</td>\n",
              "      <td>926</td>\n",
              "      <td>Espana</td>\n",
              "      <td>Ribera del Duero</td>\n",
              "      <td>810.89000</td>\n",
              "      <td>Ribera Del Duero Red</td>\n",
              "      <td>5.0</td>\n",
              "      <td>3.0</td>\n",
              "    </tr>\n",
              "    <tr>\n",
              "      <th>8</th>\n",
              "      <td>Vega Sicilia</td>\n",
              "      <td>Unico Reserva Especial Edicion</td>\n",
              "      <td>2015</td>\n",
              "      <td>4.8</td>\n",
              "      <td>643</td>\n",
              "      <td>Espana</td>\n",
              "      <td>Ribera del Duero</td>\n",
              "      <td>345.00000</td>\n",
              "      <td>Ribera Del Duero Red</td>\n",
              "      <td>5.0</td>\n",
              "      <td>3.0</td>\n",
              "    </tr>\n",
              "    <tr>\n",
              "      <th>9</th>\n",
              "      <td>Vega Sicilia</td>\n",
              "      <td>Unico</td>\n",
              "      <td>2011</td>\n",
              "      <td>4.8</td>\n",
              "      <td>630</td>\n",
              "      <td>Espana</td>\n",
              "      <td>Ribera del Duero</td>\n",
              "      <td>315.00000</td>\n",
              "      <td>Ribera Del Duero Red</td>\n",
              "      <td>5.0</td>\n",
              "      <td>3.0</td>\n",
              "    </tr>\n",
              "    <tr>\n",
              "      <th>10</th>\n",
              "      <td>Vega Sicilia</td>\n",
              "      <td>Unico Reserva Especial Edicion</td>\n",
              "      <td>2016</td>\n",
              "      <td>4.8</td>\n",
              "      <td>591</td>\n",
              "      <td>Espana</td>\n",
              "      <td>Ribera del Duero</td>\n",
              "      <td>514.85000</td>\n",
              "      <td>Ribera Del Duero Red</td>\n",
              "      <td>5.0</td>\n",
              "      <td>3.0</td>\n",
              "    </tr>\n",
              "    <tr>\n",
              "      <th>11</th>\n",
              "      <td>Pago de Carraovejas</td>\n",
              "      <td>El Anejon</td>\n",
              "      <td>2016</td>\n",
              "      <td>4.8</td>\n",
              "      <td>454</td>\n",
              "      <td>Espana</td>\n",
              "      <td>Ribera del Duero</td>\n",
              "      <td>105.15000</td>\n",
              "      <td>Ribera Del Duero Red</td>\n",
              "      <td>5.0</td>\n",
              "      <td>3.0</td>\n",
              "    </tr>\n",
              "    <tr>\n",
              "      <th>12</th>\n",
              "      <td>Vega Sicilia</td>\n",
              "      <td>Unico Reserva Especial Edicion</td>\n",
              "      <td>2018</td>\n",
              "      <td>4.8</td>\n",
              "      <td>438</td>\n",
              "      <td>Espana</td>\n",
              "      <td>Ribera del Duero</td>\n",
              "      <td>430.00000</td>\n",
              "      <td>Ribera Del Duero Red</td>\n",
              "      <td>5.0</td>\n",
              "      <td>3.0</td>\n",
              "    </tr>\n",
              "    <tr>\n",
              "      <th>13</th>\n",
              "      <td>Vega Sicilia</td>\n",
              "      <td>Unico</td>\n",
              "      <td>1970</td>\n",
              "      <td>4.8</td>\n",
              "      <td>417</td>\n",
              "      <td>Espana</td>\n",
              "      <td>Ribera del Duero</td>\n",
              "      <td>925.00000</td>\n",
              "      <td>Ribera Del Duero Red</td>\n",
              "      <td>5.0</td>\n",
              "      <td>3.0</td>\n",
              "    </tr>\n",
              "    <tr>\n",
              "      <th>14</th>\n",
              "      <td>Toro Albala</td>\n",
              "      <td>Don PX Convento Seleccion</td>\n",
              "      <td>1946</td>\n",
              "      <td>4.8</td>\n",
              "      <td>398</td>\n",
              "      <td>Espana</td>\n",
              "      <td>Montilla-Moriles</td>\n",
              "      <td>350.00000</td>\n",
              "      <td>Pedro Ximenez</td>\n",
              "      <td>5.0</td>\n",
              "      <td>1.0</td>\n",
              "    </tr>\n",
              "    <tr>\n",
              "      <th>15</th>\n",
              "      <td>Pago de Carraovejas</td>\n",
              "      <td>Cuesta de Las Liebres</td>\n",
              "      <td>2015</td>\n",
              "      <td>4.8</td>\n",
              "      <td>372</td>\n",
              "      <td>Espana</td>\n",
              "      <td>Ribera del Duero</td>\n",
              "      <td>166.18000</td>\n",
              "      <td>Ribera Del Duero Red</td>\n",
              "      <td>5.0</td>\n",
              "      <td>3.0</td>\n",
              "    </tr>\n",
              "    <tr>\n",
              "      <th>16</th>\n",
              "      <td>Vega Sicilia</td>\n",
              "      <td>Unico</td>\n",
              "      <td>1962</td>\n",
              "      <td>4.8</td>\n",
              "      <td>295</td>\n",
              "      <td>Espana</td>\n",
              "      <td>Ribera del Duero</td>\n",
              "      <td>1620.00000</td>\n",
              "      <td>Ribera Del Duero Red</td>\n",
              "      <td>5.0</td>\n",
              "      <td>3.0</td>\n",
              "    </tr>\n",
              "    <tr>\n",
              "      <th>17</th>\n",
              "      <td>Vega Sicilia</td>\n",
              "      <td>Unico Reserva Especial Edicion</td>\n",
              "      <td>2019</td>\n",
              "      <td>4.8</td>\n",
              "      <td>250</td>\n",
              "      <td>Espana</td>\n",
              "      <td>Ribera del Duero</td>\n",
              "      <td>431.36000</td>\n",
              "      <td>Ribera Del Duero Red</td>\n",
              "      <td>5.0</td>\n",
              "      <td>3.0</td>\n",
              "    </tr>\n",
              "    <tr>\n",
              "      <th>18</th>\n",
              "      <td>Bodegas El Nido</td>\n",
              "      <td>El Nido</td>\n",
              "      <td>2018</td>\n",
              "      <td>4.8</td>\n",
              "      <td>217</td>\n",
              "      <td>Espana</td>\n",
              "      <td>Jumilla</td>\n",
              "      <td>195.62738</td>\n",
              "      <td>Red</td>\n",
              "      <td>4.0</td>\n",
              "      <td>3.0</td>\n",
              "    </tr>\n",
              "    <tr>\n",
              "      <th>19</th>\n",
              "      <td>Vega Sicilia</td>\n",
              "      <td>Unico Reserva Especial Edicion</td>\n",
              "      <td>2004</td>\n",
              "      <td>4.8</td>\n",
              "      <td>211</td>\n",
              "      <td>Espana</td>\n",
              "      <td>Ribera del Duero</td>\n",
              "      <td>824.43000</td>\n",
              "      <td>Ribera Del Duero Red</td>\n",
              "      <td>5.0</td>\n",
              "      <td>3.0</td>\n",
              "    </tr>\n",
              "  </tbody>\n",
              "</table>\n",
              "</div>\n",
              "      <button class=\"colab-df-convert\" onclick=\"convertToInteractive('df-4d730143-4c31-4d31-b7a0-0b65bcd08836')\"\n",
              "              title=\"Convert this dataframe to an interactive table.\"\n",
              "              style=\"display:none;\">\n",
              "        \n",
              "  <svg xmlns=\"http://www.w3.org/2000/svg\" height=\"24px\"viewBox=\"0 0 24 24\"\n",
              "       width=\"24px\">\n",
              "    <path d=\"M0 0h24v24H0V0z\" fill=\"none\"/>\n",
              "    <path d=\"M18.56 5.44l.94 2.06.94-2.06 2.06-.94-2.06-.94-.94-2.06-.94 2.06-2.06.94zm-11 1L8.5 8.5l.94-2.06 2.06-.94-2.06-.94L8.5 2.5l-.94 2.06-2.06.94zm10 10l.94 2.06.94-2.06 2.06-.94-2.06-.94-.94-2.06-.94 2.06-2.06.94z\"/><path d=\"M17.41 7.96l-1.37-1.37c-.4-.4-.92-.59-1.43-.59-.52 0-1.04.2-1.43.59L10.3 9.45l-7.72 7.72c-.78.78-.78 2.05 0 2.83L4 21.41c.39.39.9.59 1.41.59.51 0 1.02-.2 1.41-.59l7.78-7.78 2.81-2.81c.8-.78.8-2.07 0-2.86zM5.41 20L4 18.59l7.72-7.72 1.47 1.35L5.41 20z\"/>\n",
              "  </svg>\n",
              "      </button>\n",
              "      \n",
              "  <style>\n",
              "    .colab-df-container {\n",
              "      display:flex;\n",
              "      flex-wrap:wrap;\n",
              "      gap: 12px;\n",
              "    }\n",
              "\n",
              "    .colab-df-convert {\n",
              "      background-color: #E8F0FE;\n",
              "      border: none;\n",
              "      border-radius: 50%;\n",
              "      cursor: pointer;\n",
              "      display: none;\n",
              "      fill: #1967D2;\n",
              "      height: 32px;\n",
              "      padding: 0 0 0 0;\n",
              "      width: 32px;\n",
              "    }\n",
              "\n",
              "    .colab-df-convert:hover {\n",
              "      background-color: #E2EBFA;\n",
              "      box-shadow: 0px 1px 2px rgba(60, 64, 67, 0.3), 0px 1px 3px 1px rgba(60, 64, 67, 0.15);\n",
              "      fill: #174EA6;\n",
              "    }\n",
              "\n",
              "    [theme=dark] .colab-df-convert {\n",
              "      background-color: #3B4455;\n",
              "      fill: #D2E3FC;\n",
              "    }\n",
              "\n",
              "    [theme=dark] .colab-df-convert:hover {\n",
              "      background-color: #434B5C;\n",
              "      box-shadow: 0px 1px 3px 1px rgba(0, 0, 0, 0.15);\n",
              "      filter: drop-shadow(0px 1px 2px rgba(0, 0, 0, 0.3));\n",
              "      fill: #FFFFFF;\n",
              "    }\n",
              "  </style>\n",
              "\n",
              "      <script>\n",
              "        const buttonEl =\n",
              "          document.querySelector('#df-4d730143-4c31-4d31-b7a0-0b65bcd08836 button.colab-df-convert');\n",
              "        buttonEl.style.display =\n",
              "          google.colab.kernel.accessAllowed ? 'block' : 'none';\n",
              "\n",
              "        async function convertToInteractive(key) {\n",
              "          const element = document.querySelector('#df-4d730143-4c31-4d31-b7a0-0b65bcd08836');\n",
              "          const dataTable =\n",
              "            await google.colab.kernel.invokeFunction('convertToInteractive',\n",
              "                                                     [key], {});\n",
              "          if (!dataTable) return;\n",
              "\n",
              "          const docLinkHtml = 'Like what you see? Visit the ' +\n",
              "            '<a target=\"_blank\" href=https://colab.research.google.com/notebooks/data_table.ipynb>data table notebook</a>'\n",
              "            + ' to learn more about interactive tables.';\n",
              "          element.innerHTML = '';\n",
              "          dataTable['output_type'] = 'display_data';\n",
              "          await google.colab.output.renderOutput(dataTable, element);\n",
              "          const docLink = document.createElement('div');\n",
              "          docLink.innerHTML = docLinkHtml;\n",
              "          element.appendChild(docLink);\n",
              "        }\n",
              "      </script>\n",
              "    </div>\n",
              "  </div>\n",
              "  "
            ]
          },
          "metadata": {},
          "execution_count": 73
        }
      ]
    },
    {
      "cell_type": "code",
      "source": [
        "df['year'].info()"
      ],
      "metadata": {
        "id": "gRozPNQNOSaQ",
        "colab": {
          "base_uri": "https://localhost:8080/"
        },
        "outputId": "0204071d-db3c-41c8-ad54-2da7733d94ea"
      },
      "execution_count": 74,
      "outputs": [
        {
          "output_type": "stream",
          "name": "stdout",
          "text": [
            "<class 'pandas.core.series.Series'>\n",
            "RangeIndex: 7500 entries, 0 to 7499\n",
            "Series name: year\n",
            "Non-Null Count  Dtype \n",
            "--------------  ----- \n",
            "7498 non-null   object\n",
            "dtypes: object(1)\n",
            "memory usage: 58.7+ KB\n"
          ]
        }
      ]
    },
    {
      "cell_type": "code",
      "execution_count": 75,
      "metadata": {
        "id": "jl-JtGGSk7TP",
        "colab": {
          "base_uri": "https://localhost:8080/"
        },
        "outputId": "4735e443-1b1f-40d1-ee65-30925dfa0392"
      },
      "outputs": [
        {
          "output_type": "stream",
          "name": "stdout",
          "text": [
            "<class 'pandas.core.frame.DataFrame'>\n",
            "RangeIndex: 7500 entries, 0 to 7499\n",
            "Data columns (total 11 columns):\n",
            " #   Column       Non-Null Count  Dtype  \n",
            "---  ------       --------------  -----  \n",
            " 0   winery       7500 non-null   object \n",
            " 1   wine         7500 non-null   object \n",
            " 2   year         7498 non-null   object \n",
            " 3   rating       7500 non-null   float64\n",
            " 4   num_reviews  7500 non-null   int64  \n",
            " 5   country      7500 non-null   object \n",
            " 6   region       7500 non-null   object \n",
            " 7   price        7500 non-null   float64\n",
            " 8   type         6955 non-null   object \n",
            " 9   body         6331 non-null   float64\n",
            " 10  acidity      6331 non-null   float64\n",
            "dtypes: float64(4), int64(1), object(6)\n",
            "memory usage: 644.7+ KB\n"
          ]
        }
      ],
      "source": [
        "df.info()"
      ]
    },
    {
      "cell_type": "markdown",
      "metadata": {
        "id": "nlpSsmIIFa2V"
      },
      "source": [
        "## The column country only consists of one item. This column can be dropped."
      ]
    },
    {
      "cell_type": "code",
      "execution_count": 76,
      "metadata": {
        "id": "cRA8mVNsFkYx"
      },
      "outputs": [],
      "source": [
        "df.drop('country', axis=1, inplace= True)"
      ]
    },
    {
      "cell_type": "markdown",
      "metadata": {
        "id": "rIrv9a1wFAs_"
      },
      "source": [
        "# Address inconsitencies per column"
      ]
    },
    {
      "cell_type": "code",
      "execution_count": 77,
      "metadata": {
        "id": "70toOT95QCC9",
        "colab": {
          "base_uri": "https://localhost:8080/"
        },
        "outputId": "26227d7f-4360-4afc-aff2-b2cf36052443"
      },
      "outputs": [
        {
          "output_type": "stream",
          "name": "stdout",
          "text": [
            "winery 0 object\n",
            "wine 0 object\n",
            "year 2 object\n",
            "rating 0 float64\n",
            "num_reviews 0 int64\n",
            "region 0 object\n",
            "price 0 float64\n",
            "type 545 object\n",
            "body 1169 float64\n",
            "acidity 1169 float64\n"
          ]
        }
      ],
      "source": [
        "# Looping through columns so I can identify missing data, which column they belong to, and data type of the column.\n",
        "\n",
        "for col in df:\n",
        "  print(col, df[col].isna().sum(), df[col].dtypes)"
      ]
    },
    {
      "cell_type": "markdown",
      "metadata": {
        "id": "rPGPqS5pJUKr"
      },
      "source": [
        "The missing values in the object type columns can be imputed after splitting using one hot encoder or ordinal encoding. Missing values in float64 type columns can be imputed now. These types of columns describe teirs/ordinal values and can be reasonably assumed."
      ]
    },
    {
      "cell_type": "code",
      "execution_count": 78,
      "metadata": {
        "id": "ZQOf_4rKk7TQ",
        "colab": {
          "base_uri": "https://localhost:8080/"
        },
        "outputId": "437992a2-a796-4dbb-9d33-f97ff0ce2cc4"
      },
      "outputs": [
        {
          "output_type": "execute_result",
          "data": {
            "text/plain": [
              "0.15586666666666665"
            ]
          },
          "metadata": {},
          "execution_count": 78
        }
      ],
      "source": [
        "asdf, wert = df.shape\n",
        "\n",
        "1169/asdf"
      ]
    },
    {
      "cell_type": "markdown",
      "metadata": {
        "id": "hiWW91EFk7TQ"
      },
      "source": [
        "### Body"
      ]
    },
    {
      "cell_type": "code",
      "execution_count": 79,
      "metadata": {
        "id": "hHO9EBr8I_64",
        "colab": {
          "base_uri": "https://localhost:8080/"
        },
        "outputId": "0115bbfd-2155-4e5b-d3b3-7952a071445e"
      },
      "outputs": [
        {
          "output_type": "stream",
          "name": "stdout",
          "text": [
            "body \n",
            " float64 \n",
            "\n",
            " [ 5.  4.  3. nan  2.] \n",
            "  \n",
            "\n"
          ]
        }
      ],
      "source": [
        "# Lets start with body\n",
        "\n",
        "LU(df, 'body')"
      ]
    },
    {
      "cell_type": "code",
      "execution_count": 80,
      "metadata": {
        "id": "AU7-IITrKa_a",
        "colab": {
          "base_uri": "https://localhost:8080/"
        },
        "outputId": "b36a897d-17a4-468b-d1a8-b1d9a80bec26"
      },
      "outputs": [
        {
          "output_type": "stream",
          "name": "stdout",
          "text": [
            "body \n",
            " float64 \n",
            "\n",
            " [5. 4. 3. 1. 2.] \n",
            "  \n",
            "\n"
          ]
        }
      ],
      "source": [
        "# It can be assumed that the missing value is '1'\n",
        "\n",
        "df['body'].fillna(1, inplace= True)\n",
        "\n",
        "LU(df, 'body')"
      ]
    },
    {
      "cell_type": "code",
      "execution_count": 81,
      "metadata": {
        "id": "Yf9Ch5I-Knea",
        "scrolled": true,
        "colab": {
          "base_uri": "https://localhost:8080/"
        },
        "outputId": "0cfb23ed-6f90-44ce-8f15-2052b670395a"
      },
      "outputs": [
        {
          "output_type": "stream",
          "name": "stdout",
          "text": [
            "body \n",
            " int64 \n",
            "\n",
            " [5 4 3 1 2] \n",
            "  \n",
            "\n"
          ]
        }
      ],
      "source": [
        "# Then we can convert it to an int64\n",
        "\n",
        "df['body'] = df['body'].astype('int64')\n",
        "\n",
        "LU(df, 'body')"
      ]
    },
    {
      "cell_type": "code",
      "execution_count": 81,
      "metadata": {
        "id": "Hi0Mx25_k7TR"
      },
      "outputs": [],
      "source": []
    },
    {
      "cell_type": "markdown",
      "metadata": {
        "id": "SVLpmgEHk7TS"
      },
      "source": [
        "### Acidity"
      ]
    },
    {
      "cell_type": "code",
      "execution_count": 82,
      "metadata": {
        "id": "TzWmU2CsK1Ft",
        "colab": {
          "base_uri": "https://localhost:8080/"
        },
        "outputId": "6c5b0b5f-fd4e-454e-dba9-74b629b073f7"
      },
      "outputs": [
        {
          "output_type": "stream",
          "name": "stdout",
          "text": [
            "acidity \n",
            " float64 \n",
            "\n",
            " [ 3.  2.  1. nan] \n",
            "  \n",
            "\n"
          ]
        }
      ],
      "source": [
        "# Next is 'acidity'\n",
        "# I can be assumed that acidity is refering to the pH value of wine. This rating goes from 2.5 to 4.5\n",
        "\n",
        "LU(df, 'acidity')"
      ]
    },
    {
      "cell_type": "code",
      "execution_count": 83,
      "metadata": {
        "id": "X8aOJGQILm62"
      },
      "outputs": [],
      "source": [
        "# However, these values are clearly ordinal numbers. So we can assume that the missing value would be 4.\n",
        "\n",
        "df['acidity'].fillna(4, inplace= True)"
      ]
    },
    {
      "cell_type": "code",
      "execution_count": 84,
      "metadata": {
        "id": "kpzl8PHfLqsA"
      },
      "outputs": [],
      "source": [
        "# Then we can convert it to an int64\n",
        "\n",
        "df['acidity'] = df['acidity'].astype('int64')"
      ]
    },
    {
      "cell_type": "code",
      "execution_count": 85,
      "metadata": {
        "id": "ABLycIi5LyDV",
        "colab": {
          "base_uri": "https://localhost:8080/"
        },
        "outputId": "1de710dd-37cf-4cc5-a6aa-7350a43b0d61"
      },
      "outputs": [
        {
          "output_type": "stream",
          "name": "stdout",
          "text": [
            "acidity \n",
            " int64 \n",
            "\n",
            " [3 2 1 4] \n",
            "  \n",
            "\n"
          ]
        }
      ],
      "source": [
        "LU(df, 'acidity')"
      ]
    },
    {
      "cell_type": "markdown",
      "metadata": {
        "id": "UcYK8OqxLfhy"
      },
      "source": [
        "[wine acidity reference](https://winefolly.com/deep-dive/understanding-acidity-in-wine/)"
      ]
    },
    {
      "cell_type": "markdown",
      "metadata": {
        "id": "kA_QbABJk7TT"
      },
      "source": [
        "### Year"
      ]
    },
    {
      "cell_type": "code",
      "execution_count": 86,
      "metadata": {
        "id": "OR-4qkxaCQHq",
        "colab": {
          "base_uri": "https://localhost:8080/"
        },
        "outputId": "6acf2544-28f0-4e4a-b9ad-b8cc4673145c"
      },
      "outputs": [
        {
          "output_type": "stream",
          "name": "stdout",
          "text": [
            "year \n",
            " object \n",
            "\n",
            " ['2013' '2018' '2009' '1999' '1996' '1998' '2010' '1995' '2015' '2011'\n",
            " '2016' '1970' '1946' '1962' '2019' '2004' 'N.V.' '1931' '1979' '2005'\n",
            " '2020' '2014' '1985' '1929' '2007' '2012' '2017' '2008' nan '2006' '2000'\n",
            " '2003' '2002' '1991' '1994' '1990' '1989' '1987' '1986' '1981' '2001'\n",
            " '1968' '1964' '1982' '1974' '1983' '1955' '1980' '1972' '1953' '1958'\n",
            " '1942' '1965' '1992' '1973' '1997' '1967' '1975' '1910' '1961' '1954'\n",
            " '1988' '1969' '1951' '1928' '1976' '1949' '2021' '1959' '1922' '1978'\n",
            " '1925'] \n",
            "  \n",
            "\n"
          ]
        }
      ],
      "source": [
        "# Lets explore the 'year' column. There is incongruent data that can probably be reasonbly be imputed.\n",
        "\n",
        "LU(df, 'year')"
      ]
    },
    {
      "cell_type": "code",
      "execution_count": 87,
      "metadata": {
        "scrolled": true,
        "id": "3FRcH-JTk7TT",
        "colab": {
          "base_uri": "https://localhost:8080/",
          "height": 423
        },
        "outputId": "af8c4269-0039-4b51-f3c2-45c6e9df662b"
      },
      "outputs": [
        {
          "output_type": "execute_result",
          "data": {
            "text/plain": [
              "                    winery             wine  year  rating  num_reviews  \\\n",
              "0            Teso La Monja            Tinto  2013     4.9           58   \n",
              "1                   Artadi    Vina El Pison  2018     4.9           31   \n",
              "2             Vega Sicilia            Unico  2009     4.8         1793   \n",
              "3             Vega Sicilia            Unico  1999     4.8         1705   \n",
              "4             Vega Sicilia            Unico  1996     4.8         1309   \n",
              "...                    ...              ...   ...     ...          ...   \n",
              "7495               Contino          Reserva  2016     4.2          392   \n",
              "7496  Conreria d'Scala Dei    Les Brugueres  2018     4.2          390   \n",
              "7497           Mustiguillo  Finca Terrerazo  2017     4.2          390   \n",
              "7498           Matarromera     Gran Reserva  2011     4.2          389   \n",
              "7499              Sei Solo         Preludio  2016     4.2          388   \n",
              "\n",
              "                region   price                  type  body  acidity  \n",
              "0                 Toro  995.00              Toro Red     5        3  \n",
              "1       Vino de Espana  313.50           Tempranillo     4        2  \n",
              "2     Ribera del Duero  324.95  Ribera Del Duero Red     5        3  \n",
              "3     Ribera del Duero  692.96  Ribera Del Duero Red     5        3  \n",
              "4     Ribera del Duero  778.06  Ribera Del Duero Red     5        3  \n",
              "...                ...     ...                   ...   ...      ...  \n",
              "7495             Rioja   19.98             Rioja Red     4        3  \n",
              "7496          Priorato   16.76           Priorat Red     4        3  \n",
              "7497      El Terrerazo   24.45                   Red     4        3  \n",
              "7498  Ribera del Duero   64.50  Ribera Del Duero Red     5        3  \n",
              "7499  Ribera del Duero   31.63  Ribera Del Duero Red     5        3  \n",
              "\n",
              "[7500 rows x 10 columns]"
            ],
            "text/html": [
              "\n",
              "  <div id=\"df-74d2d413-0b51-4153-929f-25f5ec263d1e\">\n",
              "    <div class=\"colab-df-container\">\n",
              "      <div>\n",
              "<style scoped>\n",
              "    .dataframe tbody tr th:only-of-type {\n",
              "        vertical-align: middle;\n",
              "    }\n",
              "\n",
              "    .dataframe tbody tr th {\n",
              "        vertical-align: top;\n",
              "    }\n",
              "\n",
              "    .dataframe thead th {\n",
              "        text-align: right;\n",
              "    }\n",
              "</style>\n",
              "<table border=\"1\" class=\"dataframe\">\n",
              "  <thead>\n",
              "    <tr style=\"text-align: right;\">\n",
              "      <th></th>\n",
              "      <th>winery</th>\n",
              "      <th>wine</th>\n",
              "      <th>year</th>\n",
              "      <th>rating</th>\n",
              "      <th>num_reviews</th>\n",
              "      <th>region</th>\n",
              "      <th>price</th>\n",
              "      <th>type</th>\n",
              "      <th>body</th>\n",
              "      <th>acidity</th>\n",
              "    </tr>\n",
              "  </thead>\n",
              "  <tbody>\n",
              "    <tr>\n",
              "      <th>0</th>\n",
              "      <td>Teso La Monja</td>\n",
              "      <td>Tinto</td>\n",
              "      <td>2013</td>\n",
              "      <td>4.9</td>\n",
              "      <td>58</td>\n",
              "      <td>Toro</td>\n",
              "      <td>995.00</td>\n",
              "      <td>Toro Red</td>\n",
              "      <td>5</td>\n",
              "      <td>3</td>\n",
              "    </tr>\n",
              "    <tr>\n",
              "      <th>1</th>\n",
              "      <td>Artadi</td>\n",
              "      <td>Vina El Pison</td>\n",
              "      <td>2018</td>\n",
              "      <td>4.9</td>\n",
              "      <td>31</td>\n",
              "      <td>Vino de Espana</td>\n",
              "      <td>313.50</td>\n",
              "      <td>Tempranillo</td>\n",
              "      <td>4</td>\n",
              "      <td>2</td>\n",
              "    </tr>\n",
              "    <tr>\n",
              "      <th>2</th>\n",
              "      <td>Vega Sicilia</td>\n",
              "      <td>Unico</td>\n",
              "      <td>2009</td>\n",
              "      <td>4.8</td>\n",
              "      <td>1793</td>\n",
              "      <td>Ribera del Duero</td>\n",
              "      <td>324.95</td>\n",
              "      <td>Ribera Del Duero Red</td>\n",
              "      <td>5</td>\n",
              "      <td>3</td>\n",
              "    </tr>\n",
              "    <tr>\n",
              "      <th>3</th>\n",
              "      <td>Vega Sicilia</td>\n",
              "      <td>Unico</td>\n",
              "      <td>1999</td>\n",
              "      <td>4.8</td>\n",
              "      <td>1705</td>\n",
              "      <td>Ribera del Duero</td>\n",
              "      <td>692.96</td>\n",
              "      <td>Ribera Del Duero Red</td>\n",
              "      <td>5</td>\n",
              "      <td>3</td>\n",
              "    </tr>\n",
              "    <tr>\n",
              "      <th>4</th>\n",
              "      <td>Vega Sicilia</td>\n",
              "      <td>Unico</td>\n",
              "      <td>1996</td>\n",
              "      <td>4.8</td>\n",
              "      <td>1309</td>\n",
              "      <td>Ribera del Duero</td>\n",
              "      <td>778.06</td>\n",
              "      <td>Ribera Del Duero Red</td>\n",
              "      <td>5</td>\n",
              "      <td>3</td>\n",
              "    </tr>\n",
              "    <tr>\n",
              "      <th>...</th>\n",
              "      <td>...</td>\n",
              "      <td>...</td>\n",
              "      <td>...</td>\n",
              "      <td>...</td>\n",
              "      <td>...</td>\n",
              "      <td>...</td>\n",
              "      <td>...</td>\n",
              "      <td>...</td>\n",
              "      <td>...</td>\n",
              "      <td>...</td>\n",
              "    </tr>\n",
              "    <tr>\n",
              "      <th>7495</th>\n",
              "      <td>Contino</td>\n",
              "      <td>Reserva</td>\n",
              "      <td>2016</td>\n",
              "      <td>4.2</td>\n",
              "      <td>392</td>\n",
              "      <td>Rioja</td>\n",
              "      <td>19.98</td>\n",
              "      <td>Rioja Red</td>\n",
              "      <td>4</td>\n",
              "      <td>3</td>\n",
              "    </tr>\n",
              "    <tr>\n",
              "      <th>7496</th>\n",
              "      <td>Conreria d'Scala Dei</td>\n",
              "      <td>Les Brugueres</td>\n",
              "      <td>2018</td>\n",
              "      <td>4.2</td>\n",
              "      <td>390</td>\n",
              "      <td>Priorato</td>\n",
              "      <td>16.76</td>\n",
              "      <td>Priorat Red</td>\n",
              "      <td>4</td>\n",
              "      <td>3</td>\n",
              "    </tr>\n",
              "    <tr>\n",
              "      <th>7497</th>\n",
              "      <td>Mustiguillo</td>\n",
              "      <td>Finca Terrerazo</td>\n",
              "      <td>2017</td>\n",
              "      <td>4.2</td>\n",
              "      <td>390</td>\n",
              "      <td>El Terrerazo</td>\n",
              "      <td>24.45</td>\n",
              "      <td>Red</td>\n",
              "      <td>4</td>\n",
              "      <td>3</td>\n",
              "    </tr>\n",
              "    <tr>\n",
              "      <th>7498</th>\n",
              "      <td>Matarromera</td>\n",
              "      <td>Gran Reserva</td>\n",
              "      <td>2011</td>\n",
              "      <td>4.2</td>\n",
              "      <td>389</td>\n",
              "      <td>Ribera del Duero</td>\n",
              "      <td>64.50</td>\n",
              "      <td>Ribera Del Duero Red</td>\n",
              "      <td>5</td>\n",
              "      <td>3</td>\n",
              "    </tr>\n",
              "    <tr>\n",
              "      <th>7499</th>\n",
              "      <td>Sei Solo</td>\n",
              "      <td>Preludio</td>\n",
              "      <td>2016</td>\n",
              "      <td>4.2</td>\n",
              "      <td>388</td>\n",
              "      <td>Ribera del Duero</td>\n",
              "      <td>31.63</td>\n",
              "      <td>Ribera Del Duero Red</td>\n",
              "      <td>5</td>\n",
              "      <td>3</td>\n",
              "    </tr>\n",
              "  </tbody>\n",
              "</table>\n",
              "<p>7500 rows × 10 columns</p>\n",
              "</div>\n",
              "      <button class=\"colab-df-convert\" onclick=\"convertToInteractive('df-74d2d413-0b51-4153-929f-25f5ec263d1e')\"\n",
              "              title=\"Convert this dataframe to an interactive table.\"\n",
              "              style=\"display:none;\">\n",
              "        \n",
              "  <svg xmlns=\"http://www.w3.org/2000/svg\" height=\"24px\"viewBox=\"0 0 24 24\"\n",
              "       width=\"24px\">\n",
              "    <path d=\"M0 0h24v24H0V0z\" fill=\"none\"/>\n",
              "    <path d=\"M18.56 5.44l.94 2.06.94-2.06 2.06-.94-2.06-.94-.94-2.06-.94 2.06-2.06.94zm-11 1L8.5 8.5l.94-2.06 2.06-.94-2.06-.94L8.5 2.5l-.94 2.06-2.06.94zm10 10l.94 2.06.94-2.06 2.06-.94-2.06-.94-.94-2.06-.94 2.06-2.06.94z\"/><path d=\"M17.41 7.96l-1.37-1.37c-.4-.4-.92-.59-1.43-.59-.52 0-1.04.2-1.43.59L10.3 9.45l-7.72 7.72c-.78.78-.78 2.05 0 2.83L4 21.41c.39.39.9.59 1.41.59.51 0 1.02-.2 1.41-.59l7.78-7.78 2.81-2.81c.8-.78.8-2.07 0-2.86zM5.41 20L4 18.59l7.72-7.72 1.47 1.35L5.41 20z\"/>\n",
              "  </svg>\n",
              "      </button>\n",
              "      \n",
              "  <style>\n",
              "    .colab-df-container {\n",
              "      display:flex;\n",
              "      flex-wrap:wrap;\n",
              "      gap: 12px;\n",
              "    }\n",
              "\n",
              "    .colab-df-convert {\n",
              "      background-color: #E8F0FE;\n",
              "      border: none;\n",
              "      border-radius: 50%;\n",
              "      cursor: pointer;\n",
              "      display: none;\n",
              "      fill: #1967D2;\n",
              "      height: 32px;\n",
              "      padding: 0 0 0 0;\n",
              "      width: 32px;\n",
              "    }\n",
              "\n",
              "    .colab-df-convert:hover {\n",
              "      background-color: #E2EBFA;\n",
              "      box-shadow: 0px 1px 2px rgba(60, 64, 67, 0.3), 0px 1px 3px 1px rgba(60, 64, 67, 0.15);\n",
              "      fill: #174EA6;\n",
              "    }\n",
              "\n",
              "    [theme=dark] .colab-df-convert {\n",
              "      background-color: #3B4455;\n",
              "      fill: #D2E3FC;\n",
              "    }\n",
              "\n",
              "    [theme=dark] .colab-df-convert:hover {\n",
              "      background-color: #434B5C;\n",
              "      box-shadow: 0px 1px 3px 1px rgba(0, 0, 0, 0.15);\n",
              "      filter: drop-shadow(0px 1px 2px rgba(0, 0, 0, 0.3));\n",
              "      fill: #FFFFFF;\n",
              "    }\n",
              "  </style>\n",
              "\n",
              "      <script>\n",
              "        const buttonEl =\n",
              "          document.querySelector('#df-74d2d413-0b51-4153-929f-25f5ec263d1e button.colab-df-convert');\n",
              "        buttonEl.style.display =\n",
              "          google.colab.kernel.accessAllowed ? 'block' : 'none';\n",
              "\n",
              "        async function convertToInteractive(key) {\n",
              "          const element = document.querySelector('#df-74d2d413-0b51-4153-929f-25f5ec263d1e');\n",
              "          const dataTable =\n",
              "            await google.colab.kernel.invokeFunction('convertToInteractive',\n",
              "                                                     [key], {});\n",
              "          if (!dataTable) return;\n",
              "\n",
              "          const docLinkHtml = 'Like what you see? Visit the ' +\n",
              "            '<a target=\"_blank\" href=https://colab.research.google.com/notebooks/data_table.ipynb>data table notebook</a>'\n",
              "            + ' to learn more about interactive tables.';\n",
              "          element.innerHTML = '';\n",
              "          dataTable['output_type'] = 'display_data';\n",
              "          await google.colab.output.renderOutput(dataTable, element);\n",
              "          const docLink = document.createElement('div');\n",
              "          docLink.innerHTML = docLinkHtml;\n",
              "          element.appendChild(docLink);\n",
              "        }\n",
              "      </script>\n",
              "    </div>\n",
              "  </div>\n",
              "  "
            ]
          },
          "metadata": {},
          "execution_count": 87
        }
      ],
      "source": [
        "df"
      ]
    },
    {
      "cell_type": "markdown",
      "metadata": {
        "id": "VLNwB-bEk7TU"
      },
      "source": [
        "### Drop NaNs"
      ]
    },
    {
      "cell_type": "code",
      "execution_count": 88,
      "metadata": {
        "id": "De6_HjgKGfov"
      },
      "outputs": [],
      "source": [
        "# df.dropna(inplace=True)"
      ]
    },
    {
      "cell_type": "markdown",
      "metadata": {
        "id": "DoisDDmjk7TU"
      },
      "source": [
        "### Ratings"
      ]
    },
    {
      "cell_type": "code",
      "execution_count": 89,
      "metadata": {
        "id": "97HLGsB0k7TU",
        "colab": {
          "base_uri": "https://localhost:8080/"
        },
        "outputId": "b4707640-c2ed-47e3-e715-c414dc3097ac"
      },
      "outputs": [
        {
          "output_type": "stream",
          "name": "stdout",
          "text": [
            "rating \n",
            " float64 \n",
            "\n",
            " [4.9 4.8 4.7 4.6 4.5 4.4 4.3 4.2] \n",
            "  \n",
            "\n"
          ]
        }
      ],
      "source": [
        "LU(df, 'rating')"
      ]
    },
    {
      "cell_type": "code",
      "execution_count": 90,
      "metadata": {
        "id": "AxyeeK8Vk7TU",
        "colab": {
          "base_uri": "https://localhost:8080/"
        },
        "outputId": "cb843abc-fa41-4865-dc58-2e545fad3a33"
      },
      "outputs": [
        {
          "output_type": "execute_result",
          "data": {
            "text/plain": [
              "0"
            ]
          },
          "metadata": {},
          "execution_count": 90
        }
      ],
      "source": [
        "df['rating'].isna().sum()"
      ]
    },
    {
      "cell_type": "code",
      "execution_count": 91,
      "metadata": {
        "id": "LM3R60_ok7TV",
        "colab": {
          "base_uri": "https://localhost:8080/"
        },
        "outputId": "55220b1e-db09-44a8-940a-605381081a27"
      },
      "outputs": [
        {
          "output_type": "stream",
          "name": "stdout",
          "text": [
            "5679\n"
          ]
        }
      ],
      "source": [
        "# This cell converts the ratings values into ordinal catagories in ranges (M)edium, (G)ood, and (O)utstanding. These labels can be used later but now they are encoded.\n",
        "\n",
        "ratings  = [4.9, 4.8, 4.7, 4.6, 4.5, 4.4, 4.3, 4.2]\n",
        "\n",
        "bins = [4.2, 4.4, 4.6, 5]\n",
        "\n",
        "labels = ['M', 'G', 'O']\n",
        "\n",
        "df['ratings'] = pd.cut(df['rating'], bins=bins, labels=labels)\n",
        "\n",
        "print(df['ratings'].isna().sum())\n",
        "\n",
        "df['ratings'].replace({'M': 1, 'G': 2, 'O': 3}, inplace=True)\n",
        "\n",
        "df['ratings'] = df['ratings'].cat.codes.astype('int64')"
      ]
    },
    {
      "cell_type": "code",
      "execution_count": 92,
      "metadata": {
        "id": "NhhMSM1Lk7TV",
        "colab": {
          "base_uri": "https://localhost:8080/"
        },
        "outputId": "13678338-7aaa-4e3d-ca90-37545635bf95"
      },
      "outputs": [
        {
          "output_type": "stream",
          "name": "stdout",
          "text": [
            "<class 'pandas.core.series.Series'>\n",
            "RangeIndex: 7500 entries, 0 to 7499\n",
            "Series name: ratings\n",
            "Non-Null Count  Dtype\n",
            "--------------  -----\n",
            "7500 non-null   int64\n",
            "dtypes: int64(1)\n",
            "memory usage: 58.7 KB\n"
          ]
        }
      ],
      "source": [
        "\n",
        "\n",
        "df['ratings'].info()"
      ]
    },
    {
      "cell_type": "markdown",
      "metadata": {
        "id": "0k23raNpO_GZ"
      },
      "source": [
        "### Drop Duplicates"
      ]
    },
    {
      "cell_type": "code",
      "execution_count": 93,
      "metadata": {
        "id": "Pt601ttaPcBz",
        "colab": {
          "base_uri": "https://localhost:8080/"
        },
        "outputId": "e34c08f0-390d-4155-d57b-1776cbf01cd6"
      },
      "outputs": [
        {
          "output_type": "execute_result",
          "data": {
            "text/plain": [
              "(7500, 11)"
            ]
          },
          "metadata": {},
          "execution_count": 93
        }
      ],
      "source": [
        "df.shape"
      ]
    },
    {
      "cell_type": "code",
      "execution_count": 94,
      "metadata": {
        "id": "gtt0yiC7NqSa",
        "colab": {
          "base_uri": "https://localhost:8080/"
        },
        "outputId": "45213c8d-5972-4ddf-d419-587f1f9ddff8"
      },
      "outputs": [
        {
          "output_type": "execute_result",
          "data": {
            "text/plain": [
              "5452"
            ]
          },
          "metadata": {},
          "execution_count": 94
        }
      ],
      "source": [
        "# Count amount of duplicated rows\n",
        "\n",
        "df.duplicated().sum()"
      ]
    },
    {
      "cell_type": "code",
      "execution_count": 95,
      "metadata": {
        "id": "7kksJaR8PDnh"
      },
      "outputs": [],
      "source": [
        "# Drop duplicates \n",
        "\n",
        "df.drop_duplicates(inplace=True)"
      ]
    },
    {
      "cell_type": "code",
      "execution_count": 96,
      "metadata": {
        "id": "q0MGTb1LPKLi",
        "colab": {
          "base_uri": "https://localhost:8080/"
        },
        "outputId": "ae1f6fe1-9b34-41dc-d3bd-7a0125193d61"
      },
      "outputs": [
        {
          "output_type": "execute_result",
          "data": {
            "text/plain": [
              "0"
            ]
          },
          "metadata": {},
          "execution_count": 96
        }
      ],
      "source": [
        "# Ensure duplicates were dropped\n",
        "\n",
        "df.duplicated().sum()"
      ]
    },
    {
      "cell_type": "code",
      "execution_count": 97,
      "metadata": {
        "id": "QEkP5p2_POeA",
        "colab": {
          "base_uri": "https://localhost:8080/"
        },
        "outputId": "50196bad-8e88-4e86-83e7-8086dc1ce8fd"
      },
      "outputs": [
        {
          "output_type": "execute_result",
          "data": {
            "text/plain": [
              "(2048, 11)"
            ]
          },
          "metadata": {},
          "execution_count": 97
        }
      ],
      "source": [
        "# Check shape of dataframe to ensure it will still be valid\n",
        "\n",
        "df.shape"
      ]
    },
    {
      "cell_type": "code",
      "execution_count": 98,
      "metadata": {
        "scrolled": false,
        "id": "zhS-JS7Vk7TX",
        "colab": {
          "base_uri": "https://localhost:8080/"
        },
        "outputId": "f6aac6c8-795c-4c64-8a9d-661b307bc9e7"
      },
      "outputs": [
        {
          "output_type": "stream",
          "name": "stdout",
          "text": [
            "price \n",
            " float64 \n",
            "\n",
            " [995.   313.5  324.95 ...  16.76  24.45  31.63] \n",
            " 75.00     16\n",
            "95.00     12\n",
            "34.90     12\n",
            "59.90     12\n",
            "26.90     11\n",
            "          ..\n",
            "75.92      1\n",
            "47.52      1\n",
            "94.20      1\n",
            "185.15     1\n",
            "995.00     1\n",
            "Name: price, Length: 1292, dtype: int64 \n",
            "\n"
          ]
        }
      ],
      "source": [
        "LU(df,'price',1);"
      ]
    },
    {
      "cell_type": "markdown",
      "metadata": {
        "id": "wNYQp9Kuk7TX"
      },
      "source": [
        "## Drop Missing Values"
      ]
    },
    {
      "cell_type": "code",
      "execution_count": 99,
      "metadata": {
        "id": "GZbC3XzLk7TX",
        "colab": {
          "base_uri": "https://localhost:8080/"
        },
        "outputId": "8e9726d3-88c5-49d0-c5c7-baf52283e461"
      },
      "outputs": [
        {
          "output_type": "execute_result",
          "data": {
            "text/plain": [
              "(1940, 11)"
            ]
          },
          "metadata": {},
          "execution_count": 99
        }
      ],
      "source": [
        "df.dropna(inplace = True)\n",
        "df.shape"
      ]
    },
    {
      "cell_type": "markdown",
      "metadata": {
        "heading_collapsed": true,
        "id": "O9I4UkcvEgl2"
      },
      "source": [
        "# Visualizations"
      ]
    },
    {
      "cell_type": "code",
      "execution_count": 100,
      "metadata": {
        "hidden": true,
        "scrolled": false,
        "id": "po0w_E2_k7TY",
        "colab": {
          "base_uri": "https://localhost:8080/",
          "height": 854
        },
        "outputId": "8580499c-0ade-4fcd-c2c2-63b4a5337147"
      },
      "outputs": [
        {
          "output_type": "execute_result",
          "data": {
            "text/plain": [
              "<Axes: >"
            ]
          },
          "metadata": {},
          "execution_count": 100
        },
        {
          "output_type": "display_data",
          "data": {
            "text/plain": [
              "<Figure size 1200x1000 with 2 Axes>"
            ],
            "image/png": "[encoded data removed]"
          },
          "metadata": {}
        }
      ],
      "source": [
        "dfcorr = df.corr()\n",
        "plt.subplots(figsize=(12,10))\n",
        "sns.heatmap(dfcorr, annot=True)"
      ]
    },
    {
      "cell_type": "code",
      "execution_count": 101,
      "metadata": {
        "hidden": true,
        "id": "o6oGSPH9k7TY",
        "colab": {
          "base_uri": "https://localhost:8080/"
        },
        "outputId": "053041da-99ca-4565-fc96-e15083a2962b"
      },
      "outputs": [
        {
          "output_type": "stream",
          "name": "stdout",
          "text": [
            "<class 'pandas.core.frame.DataFrame'>\n",
            "Int64Index: 1940 entries, 0 to 6100\n",
            "Data columns (total 11 columns):\n",
            " #   Column       Non-Null Count  Dtype  \n",
            "---  ------       --------------  -----  \n",
            " 0   winery       1940 non-null   object \n",
            " 1   wine         1940 non-null   object \n",
            " 2   year         1940 non-null   object \n",
            " 3   rating       1940 non-null   float64\n",
            " 4   num_reviews  1940 non-null   int64  \n",
            " 5   region       1940 non-null   object \n",
            " 6   price        1940 non-null   float64\n",
            " 7   type         1940 non-null   object \n",
            " 8   body         1940 non-null   int64  \n",
            " 9   acidity      1940 non-null   int64  \n",
            " 10  ratings      1940 non-null   int64  \n",
            "dtypes: float64(2), int64(4), object(5)\n",
            "memory usage: 181.9+ KB\n"
          ]
        }
      ],
      "source": [
        "df.info()"
      ]
    },
    {
      "cell_type": "code",
      "execution_count": 102,
      "metadata": {
        "hidden": true,
        "id": "jgshwGiKk7TY",
        "colab": {
          "base_uri": "https://localhost:8080/",
          "height": 1000
        },
        "outputId": "ff905e38-4435-4ad1-9cb7-800ca0deb9e5"
      },
      "outputs": [
        {
          "output_type": "display_data",
          "data": {
            "text/plain": [
              "<Figure size 2000x2000 with 2 Axes>"
            ],
            "image/png": "[encoded data removed]"
          },
          "metadata": {}
        }
      ],
      "source": [
        "font = 17\n",
        "def mon_fmt(a,g):\n",
        "  return f'${a*1e0}'\n",
        "f,ax = plt.subplots(figsize=(20,20))\n",
        "\n",
        "c= df['rating']\n",
        "cmeans = df['price'].mean()\n",
        "plt.scatter(df['price'], df['type'],c=c, cmap ='tab20c', s=100)\n",
        "\n",
        "cb = plt.colorbar(orientation='horizontal')\n",
        "cb.set_label(label = 'Wine Rating',fontsize=font)\n",
        "cb.ax.tick_params(labelsize=font)\n",
        "\n",
        "xt, yt = plt.xticks, plt.yticks\n",
        "xt(fontsize=font)\n",
        "yt(fontsize=font)\n",
        "\n",
        "plt.xlabel('Wine Price', fontsize=font)\n",
        "plt.ylabel('Wine Type', fontsize=font)\n",
        "\n",
        "ax.xaxis.set_major_formatter(mon_fmt)\n",
        "ax.set_title('Wine Price vs Wine Type with Rating distributions', fontsize=font)\n",
        "\n",
        "plt.grid(True, alpha=.05)\n",
        "plt.show()"
      ]
    },
    {
      "cell_type": "markdown",
      "metadata": {
        "hidden": true,
        "id": "SExPupYKk7TY"
      },
      "source": [
        "## There are noticeable differences in pricing in wines and level of rating as the price increases. Higher rated wines have a notably higher mark up price."
      ]
    },
    {
      "cell_type": "code",
      "execution_count": 103,
      "metadata": {
        "hidden": true,
        "id": "ESrYe4Iok7TY",
        "colab": {
          "base_uri": "https://localhost:8080/",
          "height": 1000
        },
        "outputId": "c5f9f711-e3f3-42be-eb77-f3977376905c"
      },
      "outputs": [
        {
          "output_type": "display_data",
          "data": {
            "text/plain": [
              "<Figure size 1500x1000 with 1 Axes>"
            ],
            "image/png": "[encoded data removed]"
          },
          "metadata": {}
        }
      ],
      "source": [
        "avg_price_by_region = df.groupby('region')['price'].mean().sort_values(ascending=0)\n",
        "\n",
        "def mon_fmt(a,g):\n",
        "  return f'${a*1e1}'\n",
        "\n",
        "\n",
        "\n",
        "# Create a bar plot of the average wine price by region\n",
        "fig, ax = plt.subplots(figsize=(15, 10))\n",
        "avg_price_by_region.head(10).plot(kind='bar', y='rating', ax=ax)\n",
        "# Set the labels and title\n",
        "ax.set_xlabel('Region', fontsize=font)\n",
        "ax.set_ylabel('Average Wine Price', fontsize=20)\n",
        "ax.set_title('Average Wine Price by Region',fontsize=font)\n",
        "ax.yaxis.set_major_formatter(mon_fmt)\n",
        "\n",
        "plt.xticks(rotation=75,fontsize=font)\n",
        "# Show the plot\n",
        "plt.show()"
      ]
    },
    {
      "cell_type": "markdown",
      "metadata": {
        "heading_collapsed": true,
        "hidden": true,
        "id": "IEFNGQsOk7TZ"
      },
      "source": [
        "## Displayed is is the top 10 ordered mean price of wine by region. The left most regions have higher wine prices which offer better investment opportunity.\n"
      ]
    },
    {
      "cell_type": "markdown",
      "metadata": {
        "id": "5O7KPfmYk7TZ"
      },
      "source": [
        "# T_T_S"
      ]
    },
    {
      "cell_type": "code",
      "execution_count": 104,
      "metadata": {
        "id": "GRIEz05Pk7TZ"
      },
      "outputs": [],
      "source": [
        "# Train test split\n",
        "y = df['price']\n",
        "\n",
        "X = df.drop(columns=['price'], axis=1)\n",
        "\n",
        "X_train, X_test, y_train, y_test = train_test_split(X, y, random_state=42)"
      ]
    },
    {
      "cell_type": "markdown",
      "metadata": {
        "id": "zLWqali8k7TZ"
      },
      "source": [
        "# Feature Engineering"
      ]
    },
    {
      "cell_type": "code",
      "execution_count": 105,
      "metadata": {
        "id": "5O5mgo4Yk7TZ"
      },
      "outputs": [],
      "source": [
        "num_transformer = Pipeline(steps=[\n",
        "    ('imputer', SimpleImputer(strategy='mean')),\n",
        "    ('scaler', StandardScaler())\n",
        "])\n",
        "\n",
        "cat_transformer = Pipeline(steps=[\n",
        "    ('imputer', SimpleImputer(strategy='most_frequent')),\n",
        "    ('onehot', OneHotEncoder(sparse=False, handle_unknown='ignore'))\n",
        "])\n",
        "\n",
        "ord_transformer = Pipeline(steps=[\n",
        "    ('imputer', SimpleImputer(strategy='mean')),\n",
        "    ('ordinal', OrdinalEncoder(categories='auto'))\n",
        "])"
      ]
    },
    {
      "cell_type": "code",
      "execution_count": 106,
      "metadata": {
        "id": "UNjZCmetk7Ta"
      },
      "outputs": [],
      "source": [
        "num_cols = make_column_selector(dtype_include=['int', 'float'])\n",
        "\n",
        "cat_cols = make_column_selector(dtype_include=object)\n",
        "\n",
        "ord_cols = make_column_selector(pattern='body|acidity|rating')"
      ]
    },
    {
      "cell_type": "code",
      "execution_count": 107,
      "metadata": {
        "id": "voxx75WEk7Ta"
      },
      "outputs": [],
      "source": [
        "preprocessor = ColumnTransformer(transformers=[\n",
        "    ('num', num_transformer, num_cols),\n",
        "    ('cat', cat_transformer, cat_cols),\n",
        "    ('ord', ord_transformer, ord_cols)\n",
        "])"
      ]
    },
    {
      "cell_type": "code",
      "execution_count": 108,
      "metadata": {
        "id": "gfG6s3QOk7Ta"
      },
      "outputs": [],
      "source": [
        "# Fit and transform the training data\n",
        "X_train_preprocessed = preprocessor.fit_transform(X_train)\n",
        "\n",
        "# Transform the test data using the fitted transformer\n",
        "X_test_preprocessed = preprocessor.transform(X_test)"
      ]
    },
    {
      "cell_type": "markdown",
      "source": [
        "# Model Evaluation"
      ],
      "metadata": {
        "id": "0fygCfTNk-an"
      }
    },
    {
      "cell_type": "markdown",
      "source": [
        "## Linear Regression Model"
      ],
      "metadata": {
        "id": "f2Fmw2gClChR"
      }
    },
    {
      "cell_type": "code",
      "execution_count": 109,
      "metadata": {
        "id": "S0Qk-7Ppk7Ta",
        "colab": {
          "base_uri": "https://localhost:8080/"
        },
        "outputId": "29c03e25-94e0-4fce-8106-8ae11e0b4e05"
      },
      "outputs": [
        {
          "output_type": "execute_result",
          "data": {
            "text/plain": [
              "2910"
            ]
          },
          "metadata": {},
          "execution_count": 109
        }
      ],
      "source": [
        "X_sample = X_train.shape[0]\n",
        "\n",
        "y_sample = y_train.shape[0]\n",
        "\n",
        "X_sample + y_sample"
      ]
    },
    {
      "cell_type": "code",
      "source": [
        "pca = PCA()"
      ],
      "metadata": {
        "id": "CenjAvS3lLmM"
      },
      "execution_count": 110,
      "outputs": []
    },
    {
      "cell_type": "code",
      "source": [
        "GradBoost = GradientBoostingRegressor()"
      ],
      "metadata": {
        "id": "1MxfZbhmlNfN"
      },
      "execution_count": 111,
      "outputs": []
    },
    {
      "cell_type": "code",
      "source": [
        "GradBoostPipe = Pipeline([\n",
        "    ('preprocessor', preprocessor),\n",
        "    ('pca', pca),\n",
        "    ('regressor', GradBoost)])"
      ],
      "metadata": {
        "id": "ASz6M6yylOQ4"
      },
      "execution_count": 112,
      "outputs": []
    },
    {
      "cell_type": "code",
      "source": [
        "GradBoostPipe.get_params()"
      ],
      "metadata": {
        "id": "bxO1ZdCBm0mN",
        "colab": {
          "base_uri": "https://localhost:8080/"
        },
        "outputId": "55082f7f-3747-4ddd-db33-4568d9875455"
      },
      "execution_count": 113,
      "outputs": [
        {
          "output_type": "execute_result",
          "data": {
            "text/plain": [
              "{'memory': None,\n",
              " 'steps': [('preprocessor',\n",
              "   ColumnTransformer(transformers=[('num',\n",
              "                                    Pipeline(steps=[('imputer', SimpleImputer()),\n",
              "                                                    ('scaler', StandardScaler())]),\n",
              "                                    <sklearn.compose._column_transformer.make_column_selector object at 0x7fd585de8d30>),\n",
              "                                   ('cat',\n",
              "                                    Pipeline(steps=[('imputer',\n",
              "                                                     SimpleImputer(strategy='most_frequent')),\n",
              "                                                    ('onehot',\n",
              "                                                     OneHotEncoder(handle_unknown='ignore',\n",
              "                                                                   sparse=False))]),\n",
              "                                    <sklearn.compose._column_transformer.make_column_selector object at 0x7fd585de8370>),\n",
              "                                   ('ord',\n",
              "                                    Pipeline(steps=[('imputer', SimpleImputer()),\n",
              "                                                    ('ordinal',\n",
              "                                                     OrdinalEncoder())]),\n",
              "                                    <sklearn.compose._column_transformer.make_column_selector object at 0x7fd585de85b0>)])),\n",
              "  ('pca', PCA()),\n",
              "  ('regressor', GradientBoostingRegressor())],\n",
              " 'verbose': False,\n",
              " 'preprocessor': ColumnTransformer(transformers=[('num',\n",
              "                                  Pipeline(steps=[('imputer', SimpleImputer()),\n",
              "                                                  ('scaler', StandardScaler())]),\n",
              "                                  <sklearn.compose._column_transformer.make_column_selector object at 0x7fd585de8d30>),\n",
              "                                 ('cat',\n",
              "                                  Pipeline(steps=[('imputer',\n",
              "                                                   SimpleImputer(strategy='most_frequent')),\n",
              "                                                  ('onehot',\n",
              "                                                   OneHotEncoder(handle_unknown='ignore',\n",
              "                                                                 sparse=False))]),\n",
              "                                  <sklearn.compose._column_transformer.make_column_selector object at 0x7fd585de8370>),\n",
              "                                 ('ord',\n",
              "                                  Pipeline(steps=[('imputer', SimpleImputer()),\n",
              "                                                  ('ordinal',\n",
              "                                                   OrdinalEncoder())]),\n",
              "                                  <sklearn.compose._column_transformer.make_column_selector object at 0x7fd585de85b0>)]),\n",
              " 'pca': PCA(),\n",
              " 'regressor': GradientBoostingRegressor(),\n",
              " 'preprocessor__n_jobs': None,\n",
              " 'preprocessor__remainder': 'drop',\n",
              " 'preprocessor__sparse_threshold': 0.3,\n",
              " 'preprocessor__transformer_weights': None,\n",
              " 'preprocessor__transformers': [('num',\n",
              "   Pipeline(steps=[('imputer', SimpleImputer()), ('scaler', StandardScaler())]),\n",
              "   <sklearn.compose._column_transformer.make_column_selector at 0x7fd585de8d30>),\n",
              "  ('cat',\n",
              "   Pipeline(steps=[('imputer', SimpleImputer(strategy='most_frequent')),\n",
              "                   ('onehot',\n",
              "                    OneHotEncoder(handle_unknown='ignore', sparse=False))]),\n",
              "   <sklearn.compose._column_transformer.make_column_selector at 0x7fd585de8370>),\n",
              "  ('ord',\n",
              "   Pipeline(steps=[('imputer', SimpleImputer()), ('ordinal', OrdinalEncoder())]),\n",
              "   <sklearn.compose._column_transformer.make_column_selector at 0x7fd585de85b0>)],\n",
              " 'preprocessor__verbose': False,\n",
              " 'preprocessor__verbose_feature_names_out': True,\n",
              " 'preprocessor__num': Pipeline(steps=[('imputer', SimpleImputer()), ('scaler', StandardScaler())]),\n",
              " 'preprocessor__cat': Pipeline(steps=[('imputer', SimpleImputer(strategy='most_frequent')),\n",
              "                 ('onehot',\n",
              "                  OneHotEncoder(handle_unknown='ignore', sparse=False))]),\n",
              " 'preprocessor__ord': Pipeline(steps=[('imputer', SimpleImputer()), ('ordinal', OrdinalEncoder())]),\n",
              " 'preprocessor__num__memory': None,\n",
              " 'preprocessor__num__steps': [('imputer', SimpleImputer()),\n",
              "  ('scaler', StandardScaler())],\n",
              " 'preprocessor__num__verbose': False,\n",
              " 'preprocessor__num__imputer': SimpleImputer(),\n",
              " 'preprocessor__num__scaler': StandardScaler(),\n",
              " 'preprocessor__num__imputer__add_indicator': False,\n",
              " 'preprocessor__num__imputer__copy': True,\n",
              " 'preprocessor__num__imputer__fill_value': None,\n",
              " 'preprocessor__num__imputer__keep_empty_features': False,\n",
              " 'preprocessor__num__imputer__missing_values': nan,\n",
              " 'preprocessor__num__imputer__strategy': 'mean',\n",
              " 'preprocessor__num__imputer__verbose': 'deprecated',\n",
              " 'preprocessor__num__scaler__copy': True,\n",
              " 'preprocessor__num__scaler__with_mean': True,\n",
              " 'preprocessor__num__scaler__with_std': True,\n",
              " 'preprocessor__cat__memory': None,\n",
              " 'preprocessor__cat__steps': [('imputer',\n",
              "   SimpleImputer(strategy='most_frequent')),\n",
              "  ('onehot', OneHotEncoder(handle_unknown='ignore', sparse=False))],\n",
              " 'preprocessor__cat__verbose': False,\n",
              " 'preprocessor__cat__imputer': SimpleImputer(strategy='most_frequent'),\n",
              " 'preprocessor__cat__onehot': OneHotEncoder(handle_unknown='ignore', sparse=False),\n",
              " 'preprocessor__cat__imputer__add_indicator': False,\n",
              " 'preprocessor__cat__imputer__copy': True,\n",
              " 'preprocessor__cat__imputer__fill_value': None,\n",
              " 'preprocessor__cat__imputer__keep_empty_features': False,\n",
              " 'preprocessor__cat__imputer__missing_values': nan,\n",
              " 'preprocessor__cat__imputer__strategy': 'most_frequent',\n",
              " 'preprocessor__cat__imputer__verbose': 'deprecated',\n",
              " 'preprocessor__cat__onehot__categories': 'auto',\n",
              " 'preprocessor__cat__onehot__drop': None,\n",
              " 'preprocessor__cat__onehot__dtype': numpy.float64,\n",
              " 'preprocessor__cat__onehot__handle_unknown': 'ignore',\n",
              " 'preprocessor__cat__onehot__max_categories': None,\n",
              " 'preprocessor__cat__onehot__min_frequency': None,\n",
              " 'preprocessor__cat__onehot__sparse': False,\n",
              " 'preprocessor__cat__onehot__sparse_output': True,\n",
              " 'preprocessor__ord__memory': None,\n",
              " 'preprocessor__ord__steps': [('imputer', SimpleImputer()),\n",
              "  ('ordinal', OrdinalEncoder())],\n",
              " 'preprocessor__ord__verbose': False,\n",
              " 'preprocessor__ord__imputer': SimpleImputer(),\n",
              " 'preprocessor__ord__ordinal': OrdinalEncoder(),\n",
              " 'preprocessor__ord__imputer__add_indicator': False,\n",
              " 'preprocessor__ord__imputer__copy': True,\n",
              " 'preprocessor__ord__imputer__fill_value': None,\n",
              " 'preprocessor__ord__imputer__keep_empty_features': False,\n",
              " 'preprocessor__ord__imputer__missing_values': nan,\n",
              " 'preprocessor__ord__imputer__strategy': 'mean',\n",
              " 'preprocessor__ord__imputer__verbose': 'deprecated',\n",
              " 'preprocessor__ord__ordinal__categories': 'auto',\n",
              " 'preprocessor__ord__ordinal__dtype': numpy.float64,\n",
              " 'preprocessor__ord__ordinal__encoded_missing_value': nan,\n",
              " 'preprocessor__ord__ordinal__handle_unknown': 'error',\n",
              " 'preprocessor__ord__ordinal__unknown_value': None,\n",
              " 'pca__copy': True,\n",
              " 'pca__iterated_power': 'auto',\n",
              " 'pca__n_components': None,\n",
              " 'pca__n_oversamples': 10,\n",
              " 'pca__power_iteration_normalizer': 'auto',\n",
              " 'pca__random_state': None,\n",
              " 'pca__svd_solver': 'auto',\n",
              " 'pca__tol': 0.0,\n",
              " 'pca__whiten': False,\n",
              " 'regressor__alpha': 0.9,\n",
              " 'regressor__ccp_alpha': 0.0,\n",
              " 'regressor__criterion': 'friedman_mse',\n",
              " 'regressor__init': None,\n",
              " 'regressor__learning_rate': 0.1,\n",
              " 'regressor__loss': 'squared_error',\n",
              " 'regressor__max_depth': 3,\n",
              " 'regressor__max_features': None,\n",
              " 'regressor__max_leaf_nodes': None,\n",
              " 'regressor__min_impurity_decrease': 0.0,\n",
              " 'regressor__min_samples_leaf': 1,\n",
              " 'regressor__min_samples_split': 2,\n",
              " 'regressor__min_weight_fraction_leaf': 0.0,\n",
              " 'regressor__n_estimators': 100,\n",
              " 'regressor__n_iter_no_change': None,\n",
              " 'regressor__random_state': None,\n",
              " 'regressor__subsample': 1.0,\n",
              " 'regressor__tol': 0.0001,\n",
              " 'regressor__validation_fraction': 0.1,\n",
              " 'regressor__verbose': 0,\n",
              " 'regressor__warm_start': False}"
            ]
          },
          "metadata": {},
          "execution_count": 113
        }
      ]
    },
    {
      "cell_type": "code",
      "source": [
        "c_val = np.logspace(-3, 2, num=10)\n",
        "c_val = c_val.tolist()\n",
        "print(c_val)"
      ],
      "metadata": {
        "id": "QjHVZ7cOm1e8",
        "colab": {
          "base_uri": "https://localhost:8080/"
        },
        "outputId": "07230a90-391c-42f1-c19a-8bee1f97b3a5"
      },
      "execution_count": 114,
      "outputs": [
        {
          "output_type": "stream",
          "name": "stdout",
          "text": [
            "[0.001, 0.003593813663804626, 0.01291549665014884, 0.046415888336127795, 0.1668100537200059, 0.5994842503189409, 2.1544346900318843, 7.742636826811277, 27.825594022071257, 100.0]\n"
          ]
        }
      ]
    },
    {
      "cell_type": "code",
      "source": [
        "GradBoostparams = {\n",
        "  'regressor__n_estimators': [300],\n",
        "  'pca__n_components': [0.95,1,1.1 ],\n",
        "  'regressor__alpha': [0.0001]\n",
        "}"
      ],
      "metadata": {
        "id": "mRkEr-L7m1Y9"
      },
      "execution_count": 115,
      "outputs": []
    },
    {
      "cell_type": "code",
      "source": [
        "GradBoostGrid = GridSearchCV(GradBoostPipe, GradBoostparams, cv=6)"
      ],
      "metadata": {
        "id": "DP6ZVL04m6UY"
      },
      "execution_count": 116,
      "outputs": []
    },
    {
      "cell_type": "code",
      "source": [
        "%%time\n",
        "\n",
        "GradBoostGrid.fit(X_train, y_train)"
      ],
      "metadata": {
        "id": "9eHM4Ecum1SN",
        "colab": {
          "base_uri": "https://localhost:8080/",
          "height": 436
        },
        "outputId": "89ba4b17-84ad-4b96-8a5b-9889c15beefd"
      },
      "execution_count": 117,
      "outputs": [
        {
          "output_type": "error",
          "ename": "KeyboardInterrupt",
          "evalue": "ignored",
          "traceback": [
            "\u001b[0;31m---------------------------------------------------------------------------\u001b[0m",
            "\u001b[0;31mKeyboardInterrupt\u001b[0m                         Traceback (most recent call last)",
            "\u001b[0;32m<timed eval>\u001b[0m in \u001b[0;36m<module>\u001b[0;34m\u001b[0m\n",
            "\u001b[0;32m/usr/local/lib/python3.9/dist-packages/sklearn/model_selection/_search.py\u001b[0m in \u001b[0;36mfit\u001b[0;34m(self, X, y, groups, **fit_params)\u001b[0m\n\u001b[1;32m    872\u001b[0m                 \u001b[0;32mreturn\u001b[0m \u001b[0mresults\u001b[0m\u001b[0;34m\u001b[0m\u001b[0;34m\u001b[0m\u001b[0m\n\u001b[1;32m    873\u001b[0m \u001b[0;34m\u001b[0m\u001b[0m\n\u001b[0;32m--> 874\u001b[0;31m             \u001b[0mself\u001b[0m\u001b[0;34m.\u001b[0m\u001b[0m_run_search\u001b[0m\u001b[0;34m(\u001b[0m\u001b[0mevaluate_candidates\u001b[0m\u001b[0;34m)\u001b[0m\u001b[0;34m\u001b[0m\u001b[0;34m\u001b[0m\u001b[0m\n\u001b[0m\u001b[1;32m    875\u001b[0m \u001b[0;34m\u001b[0m\u001b[0m\n\u001b[1;32m    876\u001b[0m             \u001b[0;31m# multimetric is determined here because in the case of a callable\u001b[0m\u001b[0;34m\u001b[0m\u001b[0;34m\u001b[0m\u001b[0m\n",
            "\u001b[0;32m/usr/local/lib/python3.9/dist-packages/sklearn/model_selection/_search.py\u001b[0m in \u001b[0;36m_run_search\u001b[0;34m(self, evaluate_candidates)\u001b[0m\n\u001b[1;32m   1386\u001b[0m     \u001b[0;32mdef\u001b[0m \u001b[0m_run_search\u001b[0m\u001b[0;34m(\u001b[0m\u001b[0mself\u001b[0m\u001b[0;34m,\u001b[0m \u001b[0mevaluate_candidates\u001b[0m\u001b[0;34m)\u001b[0m\u001b[0;34m:\u001b[0m\u001b[0;34m\u001b[0m\u001b[0;34m\u001b[0m\u001b[0m\n\u001b[1;32m   1387\u001b[0m         \u001b[0;34m\"\"\"Search all candidates in param_grid\"\"\"\u001b[0m\u001b[0;34m\u001b[0m\u001b[0;34m\u001b[0m\u001b[0m\n\u001b[0;32m-> 1388\u001b[0;31m         \u001b[0mevaluate_candidates\u001b[0m\u001b[0;34m(\u001b[0m\u001b[0mParameterGrid\u001b[0m\u001b[0;34m(\u001b[0m\u001b[0mself\u001b[0m\u001b[0;34m.\u001b[0m\u001b[0mparam_grid\u001b[0m\u001b[0;34m)\u001b[0m\u001b[0;34m)\u001b[0m\u001b[0;34m\u001b[0m\u001b[0;34m\u001b[0m\u001b[0m\n\u001b[0m\u001b[1;32m   1389\u001b[0m \u001b[0;34m\u001b[0m\u001b[0m\n\u001b[1;32m   1390\u001b[0m \u001b[0;34m\u001b[0m\u001b[0m\n",
            "\u001b[0;32m/usr/local/lib/python3.9/dist-packages/sklearn/model_selection/_search.py\u001b[0m in \u001b[0;36mevaluate_candidates\u001b[0;34m(candidate_params, cv, more_results)\u001b[0m\n\u001b[1;32m    819\u001b[0m                     )\n\u001b[1;32m    820\u001b[0m \u001b[0;34m\u001b[0m\u001b[0m\n\u001b[0;32m--> 821\u001b[0;31m                 out = parallel(\n\u001b[0m\u001b[1;32m    822\u001b[0m                     delayed(_fit_and_score)(\n\u001b[1;32m    823\u001b[0m                         \u001b[0mclone\u001b[0m\u001b[0;34m(\u001b[0m\u001b[0mbase_estimator\u001b[0m\u001b[0;34m)\u001b[0m\u001b[0;34m,\u001b[0m\u001b[0;34m\u001b[0m\u001b[0;34m\u001b[0m\u001b[0m\n",
            "\u001b[0;32m/usr/local/lib/python3.9/dist-packages/sklearn/utils/parallel.py\u001b[0m in \u001b[0;36m__call__\u001b[0;34m(self, iterable)\u001b[0m\n\u001b[1;32m     61\u001b[0m             \u001b[0;32mfor\u001b[0m \u001b[0mdelayed_func\u001b[0m\u001b[0;34m,\u001b[0m \u001b[0margs\u001b[0m\u001b[0;34m,\u001b[0m \u001b[0mkwargs\u001b[0m \u001b[0;32min\u001b[0m \u001b[0miterable\u001b[0m\u001b[0;34m\u001b[0m\u001b[0;34m\u001b[0m\u001b[0m\n\u001b[1;32m     62\u001b[0m         )\n\u001b[0;32m---> 63\u001b[0;31m         \u001b[0;32mreturn\u001b[0m \u001b[0msuper\u001b[0m\u001b[0;34m(\u001b[0m\u001b[0;34m)\u001b[0m\u001b[0;34m.\u001b[0m\u001b[0m__call__\u001b[0m\u001b[0;34m(\u001b[0m\u001b[0miterable_with_config\u001b[0m\u001b[0;34m)\u001b[0m\u001b[0;34m\u001b[0m\u001b[0;34m\u001b[0m\u001b[0m\n\u001b[0m\u001b[1;32m     64\u001b[0m \u001b[0;34m\u001b[0m\u001b[0m\n\u001b[1;32m     65\u001b[0m \u001b[0;34m\u001b[0m\u001b[0m\n",
            "\u001b[0;32m/usr/local/lib/python3.9/dist-packages/joblib/parallel.py\u001b[0m in \u001b[0;36m__call__\u001b[0;34m(self, iterable)\u001b[0m\n\u001b[1;32m   1083\u001b[0m             \u001b[0;31m# remaining jobs.\u001b[0m\u001b[0;34m\u001b[0m\u001b[0;34m\u001b[0m\u001b[0m\n\u001b[1;32m   1084\u001b[0m             \u001b[0mself\u001b[0m\u001b[0;34m.\u001b[0m\u001b[0m_iterating\u001b[0m \u001b[0;34m=\u001b[0m \u001b[0;32mFalse\u001b[0m\u001b[0;34m\u001b[0m\u001b[0;34m\u001b[0m\u001b[0m\n\u001b[0;32m-> 1085\u001b[0;31m             \u001b[0;32mif\u001b[0m \u001b[0mself\u001b[0m\u001b[0;34m.\u001b[0m\u001b[0mdispatch_one_batch\u001b[0m\u001b[0;34m(\u001b[0m\u001b[0miterator\u001b[0m\u001b[0;34m)\u001b[0m\u001b[0;34m:\u001b[0m\u001b[0;34m\u001b[0m\u001b[0;34m\u001b[0m\u001b[0m\n\u001b[0m\u001b[1;32m   1086\u001b[0m                 \u001b[0mself\u001b[0m\u001b[0;34m.\u001b[0m\u001b[0m_iterating\u001b[0m \u001b[0;34m=\u001b[0m \u001b[0mself\u001b[0m\u001b[0;34m.\u001b[0m\u001b[0m_original_iterator\u001b[0m \u001b[0;32mis\u001b[0m \u001b[0;32mnot\u001b[0m \u001b[0;32mNone\u001b[0m\u001b[0;34m\u001b[0m\u001b[0;34m\u001b[0m\u001b[0m\n\u001b[1;32m   1087\u001b[0m \u001b[0;34m\u001b[0m\u001b[0m\n",
            "\u001b[0;32m/usr/local/lib/python3.9/dist-packages/joblib/parallel.py\u001b[0m in \u001b[0;36mdispatch_one_batch\u001b[0;34m(self, iterator)\u001b[0m\n\u001b[1;32m    899\u001b[0m                 \u001b[0;32mreturn\u001b[0m \u001b[0;32mFalse\u001b[0m\u001b[0;34m\u001b[0m\u001b[0;34m\u001b[0m\u001b[0m\n\u001b[1;32m    900\u001b[0m             \u001b[0;32melse\u001b[0m\u001b[0;34m:\u001b[0m\u001b[0;34m\u001b[0m\u001b[0;34m\u001b[0m\u001b[0m\n\u001b[0;32m--> 901\u001b[0;31m                 \u001b[0mself\u001b[0m\u001b[0;34m.\u001b[0m\u001b[0m_dispatch\u001b[0m\u001b[0;34m(\u001b[0m\u001b[0mtasks\u001b[0m\u001b[0;34m)\u001b[0m\u001b[0;34m\u001b[0m\u001b[0;34m\u001b[0m\u001b[0m\n\u001b[0m\u001b[1;32m    902\u001b[0m                 \u001b[0;32mreturn\u001b[0m \u001b[0;32mTrue\u001b[0m\u001b[0;34m\u001b[0m\u001b[0;34m\u001b[0m\u001b[0m\n\u001b[1;32m    903\u001b[0m \u001b[0;34m\u001b[0m\u001b[0m\n",
            "\u001b[0;32m/usr/local/lib/python3.9/dist-packages/joblib/parallel.py\u001b[0m in \u001b[0;36m_dispatch\u001b[0;34m(self, batch)\u001b[0m\n\u001b[1;32m    817\u001b[0m         \u001b[0;32mwith\u001b[0m \u001b[0mself\u001b[0m\u001b[0;34m.\u001b[0m\u001b[0m_lock\u001b[0m\u001b[0;34m:\u001b[0m\u001b[0;34m\u001b[0m\u001b[0;34m\u001b[0m\u001b[0m\n\u001b[1;32m    818\u001b[0m             \u001b[0mjob_idx\u001b[0m \u001b[0;34m=\u001b[0m \u001b[0mlen\u001b[0m\u001b[0;34m(\u001b[0m\u001b[0mself\u001b[0m\u001b[0;34m.\u001b[0m\u001b[0m_jobs\u001b[0m\u001b[0;34m)\u001b[0m\u001b[0;34m\u001b[0m\u001b[0;34m\u001b[0m\u001b[0m\n\u001b[0;32m--> 819\u001b[0;31m             \u001b[0mjob\u001b[0m \u001b[0;34m=\u001b[0m \u001b[0mself\u001b[0m\u001b[0;34m.\u001b[0m\u001b[0m_backend\u001b[0m\u001b[0;34m.\u001b[0m\u001b[0mapply_async\u001b[0m\u001b[0;34m(\u001b[0m\u001b[0mbatch\u001b[0m\u001b[0;34m,\u001b[0m \u001b[0mcallback\u001b[0m\u001b[0;34m=\u001b[0m\u001b[0mcb\u001b[0m\u001b[0;34m)\u001b[0m\u001b[0;34m\u001b[0m\u001b[0;34m\u001b[0m\u001b[0m\n\u001b[0m\u001b[1;32m    820\u001b[0m             \u001b[0;31m# A job can complete so quickly than its callback is\u001b[0m\u001b[0;34m\u001b[0m\u001b[0;34m\u001b[0m\u001b[0m\n\u001b[1;32m    821\u001b[0m             \u001b[0;31m# called before we get here, causing self._jobs to\u001b[0m\u001b[0;34m\u001b[0m\u001b[0;34m\u001b[0m\u001b[0m\n",
            "\u001b[0;32m/usr/local/lib/python3.9/dist-packages/joblib/_parallel_backends.py\u001b[0m in \u001b[0;36mapply_async\u001b[0;34m(self, func, callback)\u001b[0m\n\u001b[1;32m    206\u001b[0m     \u001b[0;32mdef\u001b[0m \u001b[0mapply_async\u001b[0m\u001b[0;34m(\u001b[0m\u001b[0mself\u001b[0m\u001b[0;34m,\u001b[0m \u001b[0mfunc\u001b[0m\u001b[0;34m,\u001b[0m \u001b[0mcallback\u001b[0m\u001b[0;34m=\u001b[0m\u001b[0;32mNone\u001b[0m\u001b[0;34m)\u001b[0m\u001b[0;34m:\u001b[0m\u001b[0;34m\u001b[0m\u001b[0;34m\u001b[0m\u001b[0m\n\u001b[1;32m    207\u001b[0m         \u001b[0;34m\"\"\"Schedule a func to be run\"\"\"\u001b[0m\u001b[0;34m\u001b[0m\u001b[0;34m\u001b[0m\u001b[0m\n\u001b[0;32m--> 208\u001b[0;31m         \u001b[0mresult\u001b[0m \u001b[0;34m=\u001b[0m \u001b[0mImmediateResult\u001b[0m\u001b[0;34m(\u001b[0m\u001b[0mfunc\u001b[0m\u001b[0;34m)\u001b[0m\u001b[0;34m\u001b[0m\u001b[0;34m\u001b[0m\u001b[0m\n\u001b[0m\u001b[1;32m    209\u001b[0m         \u001b[0;32mif\u001b[0m \u001b[0mcallback\u001b[0m\u001b[0;34m:\u001b[0m\u001b[0;34m\u001b[0m\u001b[0;34m\u001b[0m\u001b[0m\n\u001b[1;32m    210\u001b[0m             \u001b[0mcallback\u001b[0m\u001b[0;34m(\u001b[0m\u001b[0mresult\u001b[0m\u001b[0;34m)\u001b[0m\u001b[0;34m\u001b[0m\u001b[0;34m\u001b[0m\u001b[0m\n",
            "\u001b[0;32m/usr/local/lib/python3.9/dist-packages/joblib/_parallel_backends.py\u001b[0m in \u001b[0;36m__init__\u001b[0;34m(self, batch)\u001b[0m\n\u001b[1;32m    595\u001b[0m         \u001b[0;31m# Don't delay the application, to avoid keeping the input\u001b[0m\u001b[0;34m\u001b[0m\u001b[0;34m\u001b[0m\u001b[0m\n\u001b[1;32m    596\u001b[0m         \u001b[0;31m# arguments in memory\u001b[0m\u001b[0;34m\u001b[0m\u001b[0;34m\u001b[0m\u001b[0m\n\u001b[0;32m--> 597\u001b[0;31m         \u001b[0mself\u001b[0m\u001b[0;34m.\u001b[0m\u001b[0mresults\u001b[0m \u001b[0;34m=\u001b[0m \u001b[0mbatch\u001b[0m\u001b[0;34m(\u001b[0m\u001b[0;34m)\u001b[0m\u001b[0;34m\u001b[0m\u001b[0;34m\u001b[0m\u001b[0m\n\u001b[0m\u001b[1;32m    598\u001b[0m \u001b[0;34m\u001b[0m\u001b[0m\n\u001b[1;32m    599\u001b[0m     \u001b[0;32mdef\u001b[0m \u001b[0mget\u001b[0m\u001b[0;34m(\u001b[0m\u001b[0mself\u001b[0m\u001b[0;34m)\u001b[0m\u001b[0;34m:\u001b[0m\u001b[0;34m\u001b[0m\u001b[0;34m\u001b[0m\u001b[0m\n",
            "\u001b[0;32m/usr/local/lib/python3.9/dist-packages/joblib/parallel.py\u001b[0m in \u001b[0;36m__call__\u001b[0;34m(self)\u001b[0m\n\u001b[1;32m    286\u001b[0m         \u001b[0;31m# change the default number of processes to -1\u001b[0m\u001b[0;34m\u001b[0m\u001b[0;34m\u001b[0m\u001b[0m\n\u001b[1;32m    287\u001b[0m         \u001b[0;32mwith\u001b[0m \u001b[0mparallel_backend\u001b[0m\u001b[0;34m(\u001b[0m\u001b[0mself\u001b[0m\u001b[0;34m.\u001b[0m\u001b[0m_backend\u001b[0m\u001b[0;34m,\u001b[0m \u001b[0mn_jobs\u001b[0m\u001b[0;34m=\u001b[0m\u001b[0mself\u001b[0m\u001b[0;34m.\u001b[0m\u001b[0m_n_jobs\u001b[0m\u001b[0;34m)\u001b[0m\u001b[0;34m:\u001b[0m\u001b[0;34m\u001b[0m\u001b[0;34m\u001b[0m\u001b[0m\n\u001b[0;32m--> 288\u001b[0;31m             return [func(*args, **kwargs)\n\u001b[0m\u001b[1;32m    289\u001b[0m                     for func, args, kwargs in self.items]\n\u001b[1;32m    290\u001b[0m \u001b[0;34m\u001b[0m\u001b[0m\n",
            "\u001b[0;32m/usr/local/lib/python3.9/dist-packages/joblib/parallel.py\u001b[0m in \u001b[0;36m<listcomp>\u001b[0;34m(.0)\u001b[0m\n\u001b[1;32m    286\u001b[0m         \u001b[0;31m# change the default number of processes to -1\u001b[0m\u001b[0;34m\u001b[0m\u001b[0;34m\u001b[0m\u001b[0m\n\u001b[1;32m    287\u001b[0m         \u001b[0;32mwith\u001b[0m \u001b[0mparallel_backend\u001b[0m\u001b[0;34m(\u001b[0m\u001b[0mself\u001b[0m\u001b[0;34m.\u001b[0m\u001b[0m_backend\u001b[0m\u001b[0;34m,\u001b[0m \u001b[0mn_jobs\u001b[0m\u001b[0;34m=\u001b[0m\u001b[0mself\u001b[0m\u001b[0;34m.\u001b[0m\u001b[0m_n_jobs\u001b[0m\u001b[0;34m)\u001b[0m\u001b[0;34m:\u001b[0m\u001b[0;34m\u001b[0m\u001b[0;34m\u001b[0m\u001b[0m\n\u001b[0;32m--> 288\u001b[0;31m             return [func(*args, **kwargs)\n\u001b[0m\u001b[1;32m    289\u001b[0m                     for func, args, kwargs in self.items]\n\u001b[1;32m    290\u001b[0m \u001b[0;34m\u001b[0m\u001b[0m\n",
            "\u001b[0;32m/usr/local/lib/python3.9/dist-packages/sklearn/utils/parallel.py\u001b[0m in \u001b[0;36m__call__\u001b[0;34m(self, *args, **kwargs)\u001b[0m\n\u001b[1;32m    121\u001b[0m             \u001b[0mconfig\u001b[0m \u001b[0;34m=\u001b[0m \u001b[0;34m{\u001b[0m\u001b[0;34m}\u001b[0m\u001b[0;34m\u001b[0m\u001b[0;34m\u001b[0m\u001b[0m\n\u001b[1;32m    122\u001b[0m         \u001b[0;32mwith\u001b[0m \u001b[0mconfig_context\u001b[0m\u001b[0;34m(\u001b[0m\u001b[0;34m**\u001b[0m\u001b[0mconfig\u001b[0m\u001b[0;34m)\u001b[0m\u001b[0;34m:\u001b[0m\u001b[0;34m\u001b[0m\u001b[0;34m\u001b[0m\u001b[0m\n\u001b[0;32m--> 123\u001b[0;31m             \u001b[0;32mreturn\u001b[0m \u001b[0mself\u001b[0m\u001b[0;34m.\u001b[0m\u001b[0mfunction\u001b[0m\u001b[0;34m(\u001b[0m\u001b[0;34m*\u001b[0m\u001b[0margs\u001b[0m\u001b[0;34m,\u001b[0m \u001b[0;34m**\u001b[0m\u001b[0mkwargs\u001b[0m\u001b[0;34m)\u001b[0m\u001b[0;34m\u001b[0m\u001b[0;34m\u001b[0m\u001b[0m\n\u001b[0m",
            "\u001b[0;32m/usr/local/lib/python3.9/dist-packages/sklearn/model_selection/_validation.py\u001b[0m in \u001b[0;36m_fit_and_score\u001b[0;34m(estimator, X, y, scorer, train, test, verbose, parameters, fit_params, return_train_score, return_parameters, return_n_test_samples, return_times, return_estimator, split_progress, candidate_progress, error_score)\u001b[0m\n\u001b[1;32m    684\u001b[0m             \u001b[0mestimator\u001b[0m\u001b[0;34m.\u001b[0m\u001b[0mfit\u001b[0m\u001b[0;34m(\u001b[0m\u001b[0mX_train\u001b[0m\u001b[0;34m,\u001b[0m \u001b[0;34m**\u001b[0m\u001b[0mfit_params\u001b[0m\u001b[0;34m)\u001b[0m\u001b[0;34m\u001b[0m\u001b[0;34m\u001b[0m\u001b[0m\n\u001b[1;32m    685\u001b[0m         \u001b[0;32melse\u001b[0m\u001b[0;34m:\u001b[0m\u001b[0;34m\u001b[0m\u001b[0;34m\u001b[0m\u001b[0m\n\u001b[0;32m--> 686\u001b[0;31m             \u001b[0mestimator\u001b[0m\u001b[0;34m.\u001b[0m\u001b[0mfit\u001b[0m\u001b[0;34m(\u001b[0m\u001b[0mX_train\u001b[0m\u001b[0;34m,\u001b[0m \u001b[0my_train\u001b[0m\u001b[0;34m,\u001b[0m \u001b[0;34m**\u001b[0m\u001b[0mfit_params\u001b[0m\u001b[0;34m)\u001b[0m\u001b[0;34m\u001b[0m\u001b[0;34m\u001b[0m\u001b[0m\n\u001b[0m\u001b[1;32m    687\u001b[0m \u001b[0;34m\u001b[0m\u001b[0m\n\u001b[1;32m    688\u001b[0m     \u001b[0;32mexcept\u001b[0m \u001b[0mException\u001b[0m\u001b[0;34m:\u001b[0m\u001b[0;34m\u001b[0m\u001b[0;34m\u001b[0m\u001b[0m\n",
            "\u001b[0;32m/usr/local/lib/python3.9/dist-packages/sklearn/pipeline.py\u001b[0m in \u001b[0;36mfit\u001b[0;34m(self, X, y, **fit_params)\u001b[0m\n\u001b[1;32m    403\u001b[0m             \u001b[0;32mif\u001b[0m \u001b[0mself\u001b[0m\u001b[0;34m.\u001b[0m\u001b[0m_final_estimator\u001b[0m \u001b[0;34m!=\u001b[0m \u001b[0;34m\"passthrough\"\u001b[0m\u001b[0;34m:\u001b[0m\u001b[0;34m\u001b[0m\u001b[0;34m\u001b[0m\u001b[0m\n\u001b[1;32m    404\u001b[0m                 \u001b[0mfit_params_last_step\u001b[0m \u001b[0;34m=\u001b[0m \u001b[0mfit_params_steps\u001b[0m\u001b[0;34m[\u001b[0m\u001b[0mself\u001b[0m\u001b[0;34m.\u001b[0m\u001b[0msteps\u001b[0m\u001b[0;34m[\u001b[0m\u001b[0;34m-\u001b[0m\u001b[0;36m1\u001b[0m\u001b[0;34m]\u001b[0m\u001b[0;34m[\u001b[0m\u001b[0;36m0\u001b[0m\u001b[0;34m]\u001b[0m\u001b[0;34m]\u001b[0m\u001b[0;34m\u001b[0m\u001b[0;34m\u001b[0m\u001b[0m\n\u001b[0;32m--> 405\u001b[0;31m                 \u001b[0mself\u001b[0m\u001b[0;34m.\u001b[0m\u001b[0m_final_estimator\u001b[0m\u001b[0;34m.\u001b[0m\u001b[0mfit\u001b[0m\u001b[0;34m(\u001b[0m\u001b[0mXt\u001b[0m\u001b[0;34m,\u001b[0m \u001b[0my\u001b[0m\u001b[0;34m,\u001b[0m \u001b[0;34m**\u001b[0m\u001b[0mfit_params_last_step\u001b[0m\u001b[0;34m)\u001b[0m\u001b[0;34m\u001b[0m\u001b[0;34m\u001b[0m\u001b[0m\n\u001b[0m\u001b[1;32m    406\u001b[0m \u001b[0;34m\u001b[0m\u001b[0m\n\u001b[1;32m    407\u001b[0m         \u001b[0;32mreturn\u001b[0m \u001b[0mself\u001b[0m\u001b[0;34m\u001b[0m\u001b[0;34m\u001b[0m\u001b[0m\n",
            "\u001b[0;32m/usr/local/lib/python3.9/dist-packages/sklearn/ensemble/_gb.py\u001b[0m in \u001b[0;36mfit\u001b[0;34m(self, X, y, sample_weight, monitor)\u001b[0m\n\u001b[1;32m    536\u001b[0m \u001b[0;34m\u001b[0m\u001b[0m\n\u001b[1;32m    537\u001b[0m         \u001b[0;31m# fit the boosting stages\u001b[0m\u001b[0;34m\u001b[0m\u001b[0;34m\u001b[0m\u001b[0m\n\u001b[0;32m--> 538\u001b[0;31m         n_stages = self._fit_stages(\n\u001b[0m\u001b[1;32m    539\u001b[0m             \u001b[0mX\u001b[0m\u001b[0;34m,\u001b[0m\u001b[0;34m\u001b[0m\u001b[0;34m\u001b[0m\u001b[0m\n\u001b[1;32m    540\u001b[0m             \u001b[0my\u001b[0m\u001b[0;34m,\u001b[0m\u001b[0;34m\u001b[0m\u001b[0;34m\u001b[0m\u001b[0m\n",
            "\u001b[0;32m/usr/local/lib/python3.9/dist-packages/sklearn/ensemble/_gb.py\u001b[0m in \u001b[0;36m_fit_stages\u001b[0;34m(self, X, y, raw_predictions, sample_weight, random_state, X_val, y_val, sample_weight_val, begin_at_stage, monitor)\u001b[0m\n\u001b[1;32m    613\u001b[0m \u001b[0;34m\u001b[0m\u001b[0m\n\u001b[1;32m    614\u001b[0m             \u001b[0;31m# fit next stage of trees\u001b[0m\u001b[0;34m\u001b[0m\u001b[0;34m\u001b[0m\u001b[0m\n\u001b[0;32m--> 615\u001b[0;31m             raw_predictions = self._fit_stage(\n\u001b[0m\u001b[1;32m    616\u001b[0m                 \u001b[0mi\u001b[0m\u001b[0;34m,\u001b[0m\u001b[0;34m\u001b[0m\u001b[0;34m\u001b[0m\u001b[0m\n\u001b[1;32m    617\u001b[0m                 \u001b[0mX\u001b[0m\u001b[0;34m,\u001b[0m\u001b[0;34m\u001b[0m\u001b[0;34m\u001b[0m\u001b[0m\n",
            "\u001b[0;32m/usr/local/lib/python3.9/dist-packages/sklearn/ensemble/_gb.py\u001b[0m in \u001b[0;36m_fit_stage\u001b[0;34m(self, i, X, y, raw_predictions, sample_weight, sample_mask, random_state, X_csc, X_csr)\u001b[0m\n\u001b[1;32m    255\u001b[0m \u001b[0;34m\u001b[0m\u001b[0m\n\u001b[1;32m    256\u001b[0m             \u001b[0mX\u001b[0m \u001b[0;34m=\u001b[0m \u001b[0mX_csr\u001b[0m \u001b[0;32mif\u001b[0m \u001b[0mX_csr\u001b[0m \u001b[0;32mis\u001b[0m \u001b[0;32mnot\u001b[0m \u001b[0;32mNone\u001b[0m \u001b[0;32melse\u001b[0m \u001b[0mX\u001b[0m\u001b[0;34m\u001b[0m\u001b[0;34m\u001b[0m\u001b[0m\n\u001b[0;32m--> 257\u001b[0;31m             \u001b[0mtree\u001b[0m\u001b[0;34m.\u001b[0m\u001b[0mfit\u001b[0m\u001b[0;34m(\u001b[0m\u001b[0mX\u001b[0m\u001b[0;34m,\u001b[0m \u001b[0mresidual\u001b[0m\u001b[0;34m,\u001b[0m \u001b[0msample_weight\u001b[0m\u001b[0;34m=\u001b[0m\u001b[0msample_weight\u001b[0m\u001b[0;34m,\u001b[0m \u001b[0mcheck_input\u001b[0m\u001b[0;34m=\u001b[0m\u001b[0;32mFalse\u001b[0m\u001b[0;34m)\u001b[0m\u001b[0;34m\u001b[0m\u001b[0;34m\u001b[0m\u001b[0m\n\u001b[0m\u001b[1;32m    258\u001b[0m \u001b[0;34m\u001b[0m\u001b[0m\n\u001b[1;32m    259\u001b[0m             \u001b[0;31m# update tree leaves\u001b[0m\u001b[0;34m\u001b[0m\u001b[0;34m\u001b[0m\u001b[0m\n",
            "\u001b[0;32m/usr/local/lib/python3.9/dist-packages/sklearn/tree/_classes.py\u001b[0m in \u001b[0;36mfit\u001b[0;34m(self, X, y, sample_weight, check_input)\u001b[0m\n\u001b[1;32m   1245\u001b[0m         \"\"\"\n\u001b[1;32m   1246\u001b[0m \u001b[0;34m\u001b[0m\u001b[0m\n\u001b[0;32m-> 1247\u001b[0;31m         super().fit(\n\u001b[0m\u001b[1;32m   1248\u001b[0m             \u001b[0mX\u001b[0m\u001b[0;34m,\u001b[0m\u001b[0;34m\u001b[0m\u001b[0;34m\u001b[0m\u001b[0m\n\u001b[1;32m   1249\u001b[0m             \u001b[0my\u001b[0m\u001b[0;34m,\u001b[0m\u001b[0;34m\u001b[0m\u001b[0;34m\u001b[0m\u001b[0m\n",
            "\u001b[0;32m/usr/local/lib/python3.9/dist-packages/sklearn/tree/_classes.py\u001b[0m in \u001b[0;36mfit\u001b[0;34m(self, X, y, sample_weight, check_input)\u001b[0m\n\u001b[1;32m    377\u001b[0m             )\n\u001b[1;32m    378\u001b[0m \u001b[0;34m\u001b[0m\u001b[0m\n\u001b[0;32m--> 379\u001b[0;31m         \u001b[0mbuilder\u001b[0m\u001b[0;34m.\u001b[0m\u001b[0mbuild\u001b[0m\u001b[0;34m(\u001b[0m\u001b[0mself\u001b[0m\u001b[0;34m.\u001b[0m\u001b[0mtree_\u001b[0m\u001b[0;34m,\u001b[0m \u001b[0mX\u001b[0m\u001b[0;34m,\u001b[0m \u001b[0my\u001b[0m\u001b[0;34m,\u001b[0m \u001b[0msample_weight\u001b[0m\u001b[0;34m)\u001b[0m\u001b[0;34m\u001b[0m\u001b[0;34m\u001b[0m\u001b[0m\n\u001b[0m\u001b[1;32m    380\u001b[0m \u001b[0;34m\u001b[0m\u001b[0m\n\u001b[1;32m    381\u001b[0m         \u001b[0;32mif\u001b[0m \u001b[0mself\u001b[0m\u001b[0;34m.\u001b[0m\u001b[0mn_outputs_\u001b[0m \u001b[0;34m==\u001b[0m \u001b[0;36m1\u001b[0m \u001b[0;32mand\u001b[0m \u001b[0mis_classifier\u001b[0m\u001b[0;34m(\u001b[0m\u001b[0mself\u001b[0m\u001b[0;34m)\u001b[0m\u001b[0;34m:\u001b[0m\u001b[0;34m\u001b[0m\u001b[0;34m\u001b[0m\u001b[0m\n",
            "\u001b[0;31mKeyboardInterrupt\u001b[0m: "
          ]
        }
      ]
    },
    {
      "cell_type": "code",
      "source": [
        "%%time\n",
        "\n",
        "y_pred = GradBoostGrid.predict(X_test)\n",
        "\n",
        "# Calculate metrics\n",
        "GradBoostmse = mean_squared_error(y_test, y_pred)\n",
        "GradBoostr2 = r2_score(y_test, y_pred)\n",
        "GradBoostevs = explained_variance_score(y_test, y_pred)\n",
        "\n",
        "print(f\"Mean Squared Error: {GradBoostmse:.2f}\")\n",
        "print(f\"R^2 Score: {GradBoostr2:.2f}\")\n",
        "print(f\"Explained Variance Score: {GradBoostevs:.2f}\")"
      ],
      "metadata": {
        "id": "QzViULaLm0_1",
        "colab": {
          "base_uri": "https://localhost:8080/",
          "height": 412
        },
        "outputId": "9019ea16-d631-483c-f369-5c3c32d41fff"
      },
      "execution_count": 118,
      "outputs": [
        {
          "output_type": "error",
          "ename": "NotFittedError",
          "evalue": "ignored",
          "traceback": [
            "\u001b[0;31m---------------------------------------------------------------------------\u001b[0m",
            "\u001b[0;31mNotFittedError\u001b[0m                            Traceback (most recent call last)",
            "\u001b[0;32m<timed exec>\u001b[0m in \u001b[0;36m<module>\u001b[0;34m\u001b[0m\n",
            "\u001b[0;32m/usr/local/lib/python3.9/dist-packages/sklearn/model_selection/_search.py\u001b[0m in \u001b[0;36mpredict\u001b[0;34m(self, X)\u001b[0m\n\u001b[1;32m    496\u001b[0m             \u001b[0mthe\u001b[0m \u001b[0mbest\u001b[0m \u001b[0mfound\u001b[0m \u001b[0mparameters\u001b[0m\u001b[0;34m.\u001b[0m\u001b[0;34m\u001b[0m\u001b[0;34m\u001b[0m\u001b[0m\n\u001b[1;32m    497\u001b[0m         \"\"\"\n\u001b[0;32m--> 498\u001b[0;31m         \u001b[0mcheck_is_fitted\u001b[0m\u001b[0;34m(\u001b[0m\u001b[0mself\u001b[0m\u001b[0;34m)\u001b[0m\u001b[0;34m\u001b[0m\u001b[0;34m\u001b[0m\u001b[0m\n\u001b[0m\u001b[1;32m    499\u001b[0m         \u001b[0;32mreturn\u001b[0m \u001b[0mself\u001b[0m\u001b[0;34m.\u001b[0m\u001b[0mbest_estimator_\u001b[0m\u001b[0;34m.\u001b[0m\u001b[0mpredict\u001b[0m\u001b[0;34m(\u001b[0m\u001b[0mX\u001b[0m\u001b[0;34m)\u001b[0m\u001b[0;34m\u001b[0m\u001b[0;34m\u001b[0m\u001b[0m\n\u001b[1;32m    500\u001b[0m \u001b[0;34m\u001b[0m\u001b[0m\n",
            "\u001b[0;32m/usr/local/lib/python3.9/dist-packages/sklearn/utils/validation.py\u001b[0m in \u001b[0;36mcheck_is_fitted\u001b[0;34m(estimator, attributes, msg, all_or_any)\u001b[0m\n\u001b[1;32m   1388\u001b[0m \u001b[0;34m\u001b[0m\u001b[0m\n\u001b[1;32m   1389\u001b[0m     \u001b[0;32mif\u001b[0m \u001b[0;32mnot\u001b[0m \u001b[0mfitted\u001b[0m\u001b[0;34m:\u001b[0m\u001b[0;34m\u001b[0m\u001b[0;34m\u001b[0m\u001b[0m\n\u001b[0;32m-> 1390\u001b[0;31m         \u001b[0;32mraise\u001b[0m \u001b[0mNotFittedError\u001b[0m\u001b[0;34m(\u001b[0m\u001b[0mmsg\u001b[0m \u001b[0;34m%\u001b[0m \u001b[0;34m{\u001b[0m\u001b[0;34m\"name\"\u001b[0m\u001b[0;34m:\u001b[0m \u001b[0mtype\u001b[0m\u001b[0;34m(\u001b[0m\u001b[0mestimator\u001b[0m\u001b[0;34m)\u001b[0m\u001b[0;34m.\u001b[0m\u001b[0m__name__\u001b[0m\u001b[0;34m}\u001b[0m\u001b[0;34m)\u001b[0m\u001b[0;34m\u001b[0m\u001b[0;34m\u001b[0m\u001b[0m\n\u001b[0m\u001b[1;32m   1391\u001b[0m \u001b[0;34m\u001b[0m\u001b[0m\n\u001b[1;32m   1392\u001b[0m \u001b[0;34m\u001b[0m\u001b[0m\n",
            "\u001b[0;31mNotFittedError\u001b[0m: This GridSearchCV instance is not fitted yet. Call 'fit' with appropriate arguments before using this estimator."
          ]
        }
      ]
    },
    {
      "cell_type": "code",
      "source": [
        "GradBoostGrid.best_params_"
      ],
      "metadata": {
        "id": "GZKmhHr0_5b7",
        "colab": {
          "base_uri": "https://localhost:8080/",
          "height": 172
        },
        "outputId": "6a601085-7c75-4a14-a530-72548bf08d83"
      },
      "execution_count": 119,
      "outputs": [
        {
          "output_type": "error",
          "ename": "AttributeError",
          "evalue": "ignored",
          "traceback": [
            "\u001b[0;31m---------------------------------------------------------------------------\u001b[0m",
            "\u001b[0;31mAttributeError\u001b[0m                            Traceback (most recent call last)",
            "\u001b[0;32m<ipython-input-119-e68c0ca63016>\u001b[0m in \u001b[0;36m<cell line: 1>\u001b[0;34m()\u001b[0m\n\u001b[0;32m----> 1\u001b[0;31m \u001b[0mGradBoostGrid\u001b[0m\u001b[0;34m.\u001b[0m\u001b[0mbest_params_\u001b[0m\u001b[0;34m\u001b[0m\u001b[0;34m\u001b[0m\u001b[0m\n\u001b[0m",
            "\u001b[0;31mAttributeError\u001b[0m: 'GridSearchCV' object has no attribute 'best_params_'"
          ]
        }
      ]
    },
    {
      "cell_type": "code",
      "source": [
        "GradBoostBest = GradBoostGrid.best_estimator_"
      ],
      "metadata": {
        "id": "6_pN3rhwcKYr"
      },
      "execution_count": null,
      "outputs": []
    },
    {
      "cell_type": "code",
      "source": [
        "GradBoostBest.fit(X_train, y_train)"
      ],
      "metadata": {
        "id": "qza4MavMcO-u"
      },
      "execution_count": null,
      "outputs": []
    },
    {
      "cell_type": "code",
      "source": [
        "import os\n",
        "\n",
        "GradBestFile = '/content/drive/MyDrive/Coding Dojo | Data Science/SavedModels/GradBestFile.joblib'\n",
        "\n",
        "if not os.path.exists(os.path.dirname(GradBestFile)):\n",
        "    os.makedirs(os.path.dirname(GradBestFile))\n",
        "\n",
        "joblib.dump(GradBoostBest, GradBestFile)"
      ],
      "metadata": {
        "id": "ZFpzOWTFcTqd"
      },
      "execution_count": null,
      "outputs": []
    },
    {
      "cell_type": "code",
      "source": [
        "%%time\n",
        "\n",
        "GradBoostBest_pred = GradBoostBest.predict(X_test)\n",
        "\n",
        "# Calculate metrics\n",
        "GradBestmse = mean_squared_error(y_test, GradBoostBest_pred)\n",
        "GradBestr2 = r2_score(y_test, GradBoostBest_pred)\n",
        "GradBestevs = explained_variance_score(y_test, GradBoostBest_pred)\n",
        "\n",
        "print(f\"Mean Squared Error: {GradBestmse:.2f}\")\n",
        "print(f\"R^2 Score: {GradBestr2:.2f}\")\n",
        "print(f\"Explained Variance Score: {GradBestevs:.2f}\")"
      ],
      "metadata": {
        "id": "n_HPZmPAcwN-"
      },
      "execution_count": null,
      "outputs": []
    },
    {
      "cell_type": "markdown",
      "source": [
        "## Random Forest Regression"
      ],
      "metadata": {
        "id": "P15yvpZCTupb"
      }
    },
    {
      "cell_type": "code",
      "source": [
        "pca = PCA()"
      ],
      "metadata": {
        "id": "lUo_IYN-TxdS"
      },
      "execution_count": null,
      "outputs": []
    },
    {
      "cell_type": "code",
      "source": [
        "Ranforreg = RandomForestRegressor()\n",
        "Ranforreg .get_params()"
      ],
      "metadata": {
        "id": "bkrAKJNZT3W_"
      },
      "execution_count": null,
      "outputs": []
    },
    {
      "cell_type": "code",
      "source": [
        "RanforregPipe = Pipeline([\n",
        "    ('preprocessor', preprocessor),\n",
        "    ('pca', pca),\n",
        "    ('regressor', Ranforreg)])\n",
        "RanforregPipe.get_params()"
      ],
      "metadata": {
        "id": "q1sEvz1mT5_p"
      },
      "execution_count": null,
      "outputs": []
    },
    {
      "cell_type": "code",
      "source": [
        "Ranforregparams = {\n",
        "     'pca__n_components': [0.95, 0.955, 0.96],\n",
        "\n",
        "     'regressor__ccp_alpha': [0.0002, 0.0003]\n",
        "}"
      ],
      "metadata": {
        "id": "HM28nQQNT8Bw"
      },
      "execution_count": null,
      "outputs": []
    },
    {
      "cell_type": "code",
      "source": [
        "# Perform grid search with cross-validation\n",
        "%%time\n",
        "\n",
        "RanforregGrid = GridSearchCV(RanforregPipe, Ranforregparams, cv=10)\n",
        " \n",
        "RanforregGrid.fit(X_train, y_train)"
      ],
      "metadata": {
        "id": "xtbOPTI_T8-O"
      },
      "execution_count": null,
      "outputs": []
    },
    {
      "cell_type": "code",
      "source": [
        "RanforregGrid.best_params_"
      ],
      "metadata": {
        "id": "4UZMh5L7dCSI"
      },
      "execution_count": null,
      "outputs": []
    },
    {
      "cell_type": "code",
      "source": [
        "# Predict on test set\n",
        "RanforregGrid_pred = RanforregGrid.predict(X_test)\n",
        "\n",
        "# Calculate metrics\n",
        "mse = mean_squared_error(y_test, RanforregGrid_pred)\n",
        "r2 = r2_score(y_test, RanforregGrid_pred)\n",
        "evs = explained_variance_score(y_test, RanforregGrid_pred)\n",
        "\n",
        "print(f\"Mean Squared Error: {mse:.2f}\")\n",
        "print(f\"R^2 Score: {r2:.2f}\")\n",
        "print(f\"Explained Variance Score: {evs:.2f}\")"
      ],
      "metadata": {
        "id": "LePtXm-WT962"
      },
      "execution_count": null,
      "outputs": []
    },
    {
      "cell_type": "code",
      "source": [
        "RanforregGrid.best_params_"
      ],
      "metadata": {
        "id": "N7dmm8IfT_FH"
      },
      "execution_count": null,
      "outputs": []
    },
    {
      "cell_type": "code",
      "source": [
        "RanforregGridbest = RanforregGrid.best_estimator_"
      ],
      "metadata": {
        "id": "516WS7xsUAX-"
      },
      "execution_count": null,
      "outputs": []
    },
    {
      "cell_type": "code",
      "source": [
        "RanforregGridbest.fit(X_train, y_train)"
      ],
      "metadata": {
        "id": "KIhF0W9iUAnx"
      },
      "execution_count": null,
      "outputs": []
    },
    {
      "cell_type": "code",
      "source": [
        "# Predict on test set\n",
        "RanforregGridBestpred = RanforregGridbest.predict(X_test)\n",
        "\n",
        "# RanforregCalculate metrics\n",
        "\n",
        "RanforregGridBestmse = mean_squared_error(y_test, RanforregGridBestpred)\n",
        "RanforregGridBestr2 = r2_score(y_test, RanforregGridBestpred)\n",
        "RanforregGridBestevs = explained_variance_score(y_test, RanforregGridBestpred)\n",
        "\n",
        "print(f\"Mean Squared Error: {mse:.2f}\")\n",
        "print(f\"R^2 Score: {r2:.2f}\")\n",
        "print(f\"Explained Variance Score: {evs:.2f}\")"
      ],
      "metadata": {
        "id": "otpHIsuBUCj5"
      },
      "execution_count": null,
      "outputs": []
    },
    {
      "cell_type": "markdown",
      "source": [
        "## Bagging Regressor"
      ],
      "metadata": {
        "id": "BFMEmYi8rZAR"
      }
    },
    {
      "cell_type": "code",
      "source": [
        "BagReg = BaggingRegressor()\n",
        "BagReg.get_params()"
      ],
      "metadata": {
        "id": "DFUYbQ9VWTNw",
        "colab": {
          "base_uri": "https://localhost:8080/"
        },
        "outputId": "69edd47e-ea45-42bc-85fa-79e5fe181257"
      },
      "execution_count": 120,
      "outputs": [
        {
          "output_type": "execute_result",
          "data": {
            "text/plain": [
              "{'base_estimator': 'deprecated',\n",
              " 'bootstrap': True,\n",
              " 'bootstrap_features': False,\n",
              " 'estimator': None,\n",
              " 'max_features': 1.0,\n",
              " 'max_samples': 1.0,\n",
              " 'n_estimators': 10,\n",
              " 'n_jobs': None,\n",
              " 'oob_score': False,\n",
              " 'random_state': None,\n",
              " 'verbose': 0,\n",
              " 'warm_start': False}"
            ]
          },
          "metadata": {},
          "execution_count": 120
        }
      ]
    },
    {
      "cell_type": "code",
      "source": [
        "BagRegPipe = Pipeline([\n",
        "    ('preprocessor', preprocessor),\n",
        "    ('pca', pca),\n",
        "    ('regressor', BagReg)])\n",
        "BagRegPipe.get_params()"
      ],
      "metadata": {
        "id": "67jiY-fRsbt6",
        "colab": {
          "base_uri": "https://localhost:8080/"
        },
        "outputId": "b65c6fd6-e20e-49ed-e4d0-de60a395a7f1"
      },
      "execution_count": 121,
      "outputs": [
        {
          "output_type": "execute_result",
          "data": {
            "text/plain": [
              "{'memory': None,\n",
              " 'steps': [('preprocessor',\n",
              "   ColumnTransformer(transformers=[('num',\n",
              "                                    Pipeline(steps=[('imputer', SimpleImputer()),\n",
              "                                                    ('scaler', StandardScaler())]),\n",
              "                                    <sklearn.compose._column_transformer.make_column_selector object at 0x7fd585de8d30>),\n",
              "                                   ('cat',\n",
              "                                    Pipeline(steps=[('imputer',\n",
              "                                                     SimpleImputer(strategy='most_frequent')),\n",
              "                                                    ('onehot',\n",
              "                                                     OneHotEncoder(handle_unknown='ignore',\n",
              "                                                                   sparse=False))]),\n",
              "                                    <sklearn.compose._column_transformer.make_column_selector object at 0x7fd585de8370>),\n",
              "                                   ('ord',\n",
              "                                    Pipeline(steps=[('imputer', SimpleImputer()),\n",
              "                                                    ('ordinal',\n",
              "                                                     OrdinalEncoder())]),\n",
              "                                    <sklearn.compose._column_transformer.make_column_selector object at 0x7fd585de85b0>)])),\n",
              "  ('pca', PCA()),\n",
              "  ('regressor', BaggingRegressor())],\n",
              " 'verbose': False,\n",
              " 'preprocessor': ColumnTransformer(transformers=[('num',\n",
              "                                  Pipeline(steps=[('imputer', SimpleImputer()),\n",
              "                                                  ('scaler', StandardScaler())]),\n",
              "                                  <sklearn.compose._column_transformer.make_column_selector object at 0x7fd585de8d30>),\n",
              "                                 ('cat',\n",
              "                                  Pipeline(steps=[('imputer',\n",
              "                                                   SimpleImputer(strategy='most_frequent')),\n",
              "                                                  ('onehot',\n",
              "                                                   OneHotEncoder(handle_unknown='ignore',\n",
              "                                                                 sparse=False))]),\n",
              "                                  <sklearn.compose._column_transformer.make_column_selector object at 0x7fd585de8370>),\n",
              "                                 ('ord',\n",
              "                                  Pipeline(steps=[('imputer', SimpleImputer()),\n",
              "                                                  ('ordinal',\n",
              "                                                   OrdinalEncoder())]),\n",
              "                                  <sklearn.compose._column_transformer.make_column_selector object at 0x7fd585de85b0>)]),\n",
              " 'pca': PCA(),\n",
              " 'regressor': BaggingRegressor(),\n",
              " 'preprocessor__n_jobs': None,\n",
              " 'preprocessor__remainder': 'drop',\n",
              " 'preprocessor__sparse_threshold': 0.3,\n",
              " 'preprocessor__transformer_weights': None,\n",
              " 'preprocessor__transformers': [('num',\n",
              "   Pipeline(steps=[('imputer', SimpleImputer()), ('scaler', StandardScaler())]),\n",
              "   <sklearn.compose._column_transformer.make_column_selector at 0x7fd585de8d30>),\n",
              "  ('cat',\n",
              "   Pipeline(steps=[('imputer', SimpleImputer(strategy='most_frequent')),\n",
              "                   ('onehot',\n",
              "                    OneHotEncoder(handle_unknown='ignore', sparse=False))]),\n",
              "   <sklearn.compose._column_transformer.make_column_selector at 0x7fd585de8370>),\n",
              "  ('ord',\n",
              "   Pipeline(steps=[('imputer', SimpleImputer()), ('ordinal', OrdinalEncoder())]),\n",
              "   <sklearn.compose._column_transformer.make_column_selector at 0x7fd585de85b0>)],\n",
              " 'preprocessor__verbose': False,\n",
              " 'preprocessor__verbose_feature_names_out': True,\n",
              " 'preprocessor__num': Pipeline(steps=[('imputer', SimpleImputer()), ('scaler', StandardScaler())]),\n",
              " 'preprocessor__cat': Pipeline(steps=[('imputer', SimpleImputer(strategy='most_frequent')),\n",
              "                 ('onehot',\n",
              "                  OneHotEncoder(handle_unknown='ignore', sparse=False))]),\n",
              " 'preprocessor__ord': Pipeline(steps=[('imputer', SimpleImputer()), ('ordinal', OrdinalEncoder())]),\n",
              " 'preprocessor__num__memory': None,\n",
              " 'preprocessor__num__steps': [('imputer', SimpleImputer()),\n",
              "  ('scaler', StandardScaler())],\n",
              " 'preprocessor__num__verbose': False,\n",
              " 'preprocessor__num__imputer': SimpleImputer(),\n",
              " 'preprocessor__num__scaler': StandardScaler(),\n",
              " 'preprocessor__num__imputer__add_indicator': False,\n",
              " 'preprocessor__num__imputer__copy': True,\n",
              " 'preprocessor__num__imputer__fill_value': None,\n",
              " 'preprocessor__num__imputer__keep_empty_features': False,\n",
              " 'preprocessor__num__imputer__missing_values': nan,\n",
              " 'preprocessor__num__imputer__strategy': 'mean',\n",
              " 'preprocessor__num__imputer__verbose': 'deprecated',\n",
              " 'preprocessor__num__scaler__copy': True,\n",
              " 'preprocessor__num__scaler__with_mean': True,\n",
              " 'preprocessor__num__scaler__with_std': True,\n",
              " 'preprocessor__cat__memory': None,\n",
              " 'preprocessor__cat__steps': [('imputer',\n",
              "   SimpleImputer(strategy='most_frequent')),\n",
              "  ('onehot', OneHotEncoder(handle_unknown='ignore', sparse=False))],\n",
              " 'preprocessor__cat__verbose': False,\n",
              " 'preprocessor__cat__imputer': SimpleImputer(strategy='most_frequent'),\n",
              " 'preprocessor__cat__onehot': OneHotEncoder(handle_unknown='ignore', sparse=False),\n",
              " 'preprocessor__cat__imputer__add_indicator': False,\n",
              " 'preprocessor__cat__imputer__copy': True,\n",
              " 'preprocessor__cat__imputer__fill_value': None,\n",
              " 'preprocessor__cat__imputer__keep_empty_features': False,\n",
              " 'preprocessor__cat__imputer__missing_values': nan,\n",
              " 'preprocessor__cat__imputer__strategy': 'most_frequent',\n",
              " 'preprocessor__cat__imputer__verbose': 'deprecated',\n",
              " 'preprocessor__cat__onehot__categories': 'auto',\n",
              " 'preprocessor__cat__onehot__drop': None,\n",
              " 'preprocessor__cat__onehot__dtype': numpy.float64,\n",
              " 'preprocessor__cat__onehot__handle_unknown': 'ignore',\n",
              " 'preprocessor__cat__onehot__max_categories': None,\n",
              " 'preprocessor__cat__onehot__min_frequency': None,\n",
              " 'preprocessor__cat__onehot__sparse': False,\n",
              " 'preprocessor__cat__onehot__sparse_output': True,\n",
              " 'preprocessor__ord__memory': None,\n",
              " 'preprocessor__ord__steps': [('imputer', SimpleImputer()),\n",
              "  ('ordinal', OrdinalEncoder())],\n",
              " 'preprocessor__ord__verbose': False,\n",
              " 'preprocessor__ord__imputer': SimpleImputer(),\n",
              " 'preprocessor__ord__ordinal': OrdinalEncoder(),\n",
              " 'preprocessor__ord__imputer__add_indicator': False,\n",
              " 'preprocessor__ord__imputer__copy': True,\n",
              " 'preprocessor__ord__imputer__fill_value': None,\n",
              " 'preprocessor__ord__imputer__keep_empty_features': False,\n",
              " 'preprocessor__ord__imputer__missing_values': nan,\n",
              " 'preprocessor__ord__imputer__strategy': 'mean',\n",
              " 'preprocessor__ord__imputer__verbose': 'deprecated',\n",
              " 'preprocessor__ord__ordinal__categories': 'auto',\n",
              " 'preprocessor__ord__ordinal__dtype': numpy.float64,\n",
              " 'preprocessor__ord__ordinal__encoded_missing_value': nan,\n",
              " 'preprocessor__ord__ordinal__handle_unknown': 'error',\n",
              " 'preprocessor__ord__ordinal__unknown_value': None,\n",
              " 'pca__copy': True,\n",
              " 'pca__iterated_power': 'auto',\n",
              " 'pca__n_components': None,\n",
              " 'pca__n_oversamples': 10,\n",
              " 'pca__power_iteration_normalizer': 'auto',\n",
              " 'pca__random_state': None,\n",
              " 'pca__svd_solver': 'auto',\n",
              " 'pca__tol': 0.0,\n",
              " 'pca__whiten': False,\n",
              " 'regressor__base_estimator': 'deprecated',\n",
              " 'regressor__bootstrap': True,\n",
              " 'regressor__bootstrap_features': False,\n",
              " 'regressor__estimator': None,\n",
              " 'regressor__max_features': 1.0,\n",
              " 'regressor__max_samples': 1.0,\n",
              " 'regressor__n_estimators': 10,\n",
              " 'regressor__n_jobs': None,\n",
              " 'regressor__oob_score': False,\n",
              " 'regressor__random_state': None,\n",
              " 'regressor__verbose': 0,\n",
              " 'regressor__warm_start': False}"
            ]
          },
          "metadata": {},
          "execution_count": 121
        }
      ]
    },
    {
      "cell_type": "code",
      "source": [
        "BagRegParams = {\n",
        "  'regressor__n_estimators': [275,300,325],\n",
        "  'pca__n_components': [0.85,0.87, .9,0.91, 0.92, 0.95 ],\n",
        "  'regressor__alpha': [0.00009,0.0001,0.0002]\n",
        "}"
      ],
      "metadata": {
        "id": "HNjAeSnmsdRb"
      },
      "execution_count": 122,
      "outputs": []
    },
    {
      "cell_type": "code",
      "source": [
        "BagRegGrid = GridSearchCV(GradBoostPipe,BagRegParams,cv=5)"
      ],
      "metadata": {
        "id": "k2cdEuXwueVl"
      },
      "execution_count": 123,
      "outputs": []
    },
    {
      "cell_type": "code",
      "source": [
        "%%time\n",
        "\n",
        "BagRegGrid.fit(X_train, y_train)"
      ],
      "metadata": {
        "id": "ISqwRHCEullF"
      },
      "execution_count": null,
      "outputs": []
    },
    {
      "cell_type": "code",
      "source": [
        "BagRegGrid_pred = BagRegGrid.predict(X_test)\n",
        "\n",
        "# Calculate metrics\n",
        "BagRegmse = mean_squared_error(y_test, BagRegGrid_pred)\n",
        "BagRegr2 = r2_score(y_test, BagRegGrid_pred)\n",
        "BagRegevs = explained_variance_score(y_test, BagRegGrid_pred)\n",
        "\n",
        "print(f\"Mean Squared Error: {BagRegmse = mean_squared_error(y_test, BagRegGrid_pred):.2f}\")\n",
        "print(f\"R^2 Score: {BagRegr2:.2f}\")\n",
        "print(f\"Explained Variance Score: {BagRegevs:.2f}\")"
      ],
      "metadata": {
        "id": "2mb0pJgXunfV"
      },
      "execution_count": null,
      "outputs": []
    },
    {
      "cell_type": "code",
      "source": [],
      "metadata": {
        "id": "9E0GG0sg1S7m"
      },
      "execution_count": null,
      "outputs": []
    }
  ],
  "metadata": {
    "colab": {
      "provenance": [],
      "include_colab_link": true
    },
    "kernelspec": {
      "display_name": "Python 3 (ipykernel)",
      "language": "python",
      "name": "python3"
    },
    "language_info": {
      "codemirror_mode": {
        "name": "ipython",
        "version": 3
      },
      "file_extension": ".py",
      "mimetype": "text/x-python",
      "name": "python",
      "nbconvert_exporter": "python",
      "pygments_lexer": "ipython3",
      "version": "3.9.15"
    },
    "toc": {
      "base_numbering": 1,
      "nav_menu": {},
      "number_sections": false,
      "sideBar": true,
      "skip_h1_title": false,
      "title_cell": "Table of Contents",
      "title_sidebar": "Contents",
      "toc_cell": false,
      "toc_position": {},
      "toc_section_display": true,
      "toc_window_display": false
    }
  },
  "nbformat": 4,
  "nbformat_minor": 0
}